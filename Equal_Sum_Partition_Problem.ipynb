{
  "nbformat": 4,
  "nbformat_minor": 0,
  "metadata": {
    "colab": {
      "name": "Equal Sum Partition Problem.ipynb",
      "provenance": [],
      "authorship_tag": "ABX9TyP+ZUh1catd2MQgU78x0d/c",
      "include_colab_link": true
    },
    "kernelspec": {
      "name": "python3",
      "display_name": "Python 3"
    }
  },
  "cells": [
    {
      "cell_type": "markdown",
      "metadata": {
        "id": "view-in-github",
        "colab_type": "text"
      },
      "source": [
        "<a href=\"https://colab.research.google.com/github/srishtivishnoi2102/DevsNest_DSA/blob/master/Equal_Sum_Partition_Problem.ipynb\" target=\"_parent\"><img src=\"https://colab.research.google.com/assets/colab-badge.svg\" alt=\"Open In Colab\"/></a>"
      ]
    },
    {
      "cell_type": "code",
      "metadata": {
        "id": "c7FEKI7iVbWZ",
        "colab_type": "code",
        "colab": {}
      },
      "source": [
        ""
      ],
      "execution_count": null,
      "outputs": []
    },
    {
      "cell_type": "markdown",
      "metadata": {
        "id": "HVOFSkNBVi1J",
        "colab_type": "text"
      },
      "source": [
        "# Partition problem is to determine whether a given set can be partitioned into two subsets such that the sum of elements in both subsets is same.\n",
        "     equal_partition_subset_sum(nums)-----> boolean(T/F)\n",
        "1.   If sum of numbers is odd, equal sum partition not possible\n",
        "\n",
        "2.   If sum is even, check if a subset has sum =sum(nums)/2\n",
        "\n",
        "\n",
        "\n",
        "This problem breaks down to the subset sum problem with target= sum(nums)//2\n"
      ]
    },
    {
      "cell_type": "code",
      "metadata": {
        "id": "IfgCXZJjVoiQ",
        "colab_type": "code",
        "colab": {}
      },
      "source": [
        "def equal_sum_partition(nums):\n",
        "  sumnums=sum(nums)\n",
        "  if sumnums%2==1:\n",
        "    return False    # if sum of numbers is odd, then equal sum partitions is not possible\n",
        "\n",
        "  target =sumnums//2    #now apply subset sum with target =sum(nums)/2\n",
        "\n",
        "  dp= [[True] +[False for s in range(target)] for num in range(1+len(nums))]\n",
        "\n",
        "  for n in range(1,len(dp)):\n",
        "    for s in range(1, len(dp[0])):\n",
        "      if nums[n-1]>s:\n",
        "       dp[n][s] = dp[n-1][s]     # arr[n-1] not included\n",
        "      else:\n",
        "       dp[n][s] = dp[n-1][s] or dp[n-1][s-nums[n-1]]\n",
        "\n",
        "  return dp[len(nums)][target]\n"
      ],
      "execution_count": 13,
      "outputs": []
    },
    {
      "cell_type": "code",
      "metadata": {
        "id": "I9GP1BXqqD5w",
        "colab_type": "code",
        "colab": {
          "base_uri": "https://localhost:8080/",
          "height": 34
        },
        "outputId": "d86be15f-ac69-458f-94ff-f14e4c312074"
      },
      "source": [
        "nums=[5,1,11,5]\n",
        "equal_sum_partition(nums)"
      ],
      "execution_count": 15,
      "outputs": [
        {
          "output_type": "execute_result",
          "data": {
            "text/plain": [
              "True"
            ]
          },
          "metadata": {
            "tags": []
          },
          "execution_count": 15
        }
      ]
    },
    {
      "cell_type": "code",
      "metadata": {
        "id": "201T5UofqNGY",
        "colab_type": "code",
        "colab": {}
      },
      "source": [
        ""
      ],
      "execution_count": null,
      "outputs": []
    }
  ]
}