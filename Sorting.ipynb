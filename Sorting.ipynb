{
  "nbformat": 4,
  "nbformat_minor": 0,
  "metadata": {
    "colab": {
      "name": "Sorting.ipynb",
      "provenance": [],
      "include_colab_link": true
    },
    "kernelspec": {
      "name": "python3",
      "display_name": "Python 3"
    }
  },
  "cells": [
    {
      "cell_type": "markdown",
      "metadata": {
        "id": "view-in-github",
        "colab_type": "text"
      },
      "source": [
        "<a href=\"https://colab.research.google.com/github/srishtivishnoi2102/DevsNest_DSA/blob/master/Sorting.ipynb\" target=\"_parent\"><img src=\"https://colab.research.google.com/assets/colab-badge.svg\" alt=\"Open In Colab\"/></a>"
      ]
    },
    {
      "cell_type": "markdown",
      "metadata": {
        "id": "Eh6t1IBbfFCv",
        "colab_type": "text"
      },
      "source": [
        "# 1.1Bubble Sort\n",
        "```\n",
        "works by repeatedly swapping the adjacent elements if they are in wrong order.\n",
        "we do n-1 passes, \n",
        "After every ith pass, ith largest element will go to its correct position\n",
        "\n",
        "Worst and Average Case Time Complexity: O(n*n). Worst case occurs when array is reverse sorted.\n",
        "Best Case Time Complexity             : O(n). Best case occurs when array is already sorted.\n",
        "Auxiliary Space                       : O(1)\n",
        "Boundary Cases                        : Bubble sort takes minimum time (Order of n) when elements are already sorted.\n",
        "Sorting In Place                      : Yes\n",
        "Stable                                : Yes\n",
        "```"
      ]
    },
    {
      "cell_type": "code",
      "metadata": {
        "id": "zTE68ClYfI7g",
        "colab_type": "code",
        "colab": {
          "base_uri": "https://localhost:8080/",
          "height": 102
        },
        "outputId": "0b5747bf-5835-46e1-ae66-d4a63c12f9bb"
      },
      "source": [
        " def bubbleSort(arr):\n",
        "  for ipass in range(1, len(arr)):\n",
        "    print(\"in \",ipass,\"th pass::\")\n",
        "    for i in range(0, len(arr)- ipass):\n",
        "      \n",
        "      if arr[i]> arr[i+1]:\n",
        "        print(\"\\t swapping \",arr[i], arr[i+1])\n",
        "        arr[i], arr[i+1]= arr[i+1], arr[i]\n",
        "\n",
        "  return arr\n",
        "\n",
        "arr=[1, 2, 4, 5, 9]\n",
        "arr=bubbleSort(arr)\n",
        "print(arr)"
      ],
      "execution_count": null,
      "outputs": [
        {
          "output_type": "stream",
          "text": [
            "in  1 th pass::\n",
            "in  2 th pass::\n",
            "in  3 th pass::\n",
            "in  4 th pass::\n",
            "[1, 2, 4, 5, 9]\n"
          ],
          "name": "stdout"
        }
      ]
    },
    {
      "cell_type": "code",
      "metadata": {
        "id": "XSwOV36Pg7yF",
        "colab_type": "code",
        "colab": {}
      },
      "source": [
        ""
      ],
      "execution_count": null,
      "outputs": []
    },
    {
      "cell_type": "markdown",
      "metadata": {
        "id": "f8WK_Ysog9H0",
        "colab_type": "text"
      },
      "source": [
        "# 1.2Modified Binary Sort\n",
        "\n",
        "Best Case = O(n)\n",
        "avg, worst= O(n^2)"
      ]
    },
    {
      "cell_type": "code",
      "metadata": {
        "id": "yzIVhqW_gGLw",
        "colab_type": "code",
        "colab": {
          "base_uri": "https://localhost:8080/",
          "height": 51
        },
        "outputId": "788036cf-9f73-4494-a2d3-b1721465edca"
      },
      "source": [
        "def bubbleSort(arr):\n",
        "  for ipass in range(1, len(arr)):\n",
        "    print(\"in \",ipass,\"th pass::\")\n",
        "    isSorted=True\n",
        "    for i in range(0, len(arr)- ipass):\n",
        "      \n",
        "      if arr[i]> arr[i+1]:\n",
        "        isSorted=False\n",
        "        print(\"\\t swapping \",arr[i], arr[i+1])\n",
        "        arr[i], arr[i+1]= arr[i+1], arr[i]\n",
        "    if isSorted:\n",
        "      break\n",
        "  return arr\n",
        "arr=[1, 2, 4, 5, 9]\n",
        "arr=bubbleSort(arr)\n",
        "print(arr)"
      ],
      "execution_count": null,
      "outputs": [
        {
          "output_type": "stream",
          "text": [
            "in  1 th pass::\n",
            "[1, 2, 4, 5, 9]\n"
          ],
          "name": "stdout"
        }
      ]
    },
    {
      "cell_type": "markdown",
      "metadata": {
        "id": "y1XsFC4CivBd",
        "colab_type": "text"
      },
      "source": [
        "# 2.Selection Sort\n",
        "```\n",
        "The selection sort algorithm sorts an array by repeatedly finding the minimum element (considering ascending order)\n",
        " from unsorted part and putting it at the beginning. The algorithm maintains two subarrays in a given array.\n",
        "\n",
        "1) The subarray which is already sorted.\n",
        "2) Remaining subarray which is unsorted.\n",
        "\n",
        "In every iteration of selection sort, the minimum element (considering ascending order) from the unsorted subarray\n",
        " is picked and moved to the sorted subarray.\n",
        "\n",
        "Time Complexity: O(n2) as there are two nested loops.\n",
        "\n",
        "Auxiliary Space: O(1)\n",
        "The good thing about selection sort is it never makes more than O(n) swaps and can be useful when memory write is a costly operation.\n",
        "```"
      ]
    },
    {
      "cell_type": "code",
      "metadata": {
        "id": "jMzPrp7yhDUJ",
        "colab_type": "code",
        "colab": {
          "base_uri": "https://localhost:8080/",
          "height": 34
        },
        "outputId": "f0b1336a-a167-4d40-c1fd-b49f247c848a"
      },
      "source": [
        "def selectionSort(arr):\n",
        "  for current_index in range(0,len(arr)-1):\n",
        "    min_index=current_index\n",
        "    for j in range(current_index+1,len(arr)):\n",
        "      if arr[j]<arr[min_index]:\n",
        "        min_index= j\n",
        "    arr[min_index], arr[current_index] =arr[current_index], arr[min_index]\n",
        "  return arr\n",
        "arr=[1100, 22, 4,9,6,2]\n",
        "arr=selectionSort(arr)\n",
        "print(arr)"
      ],
      "execution_count": null,
      "outputs": [
        {
          "output_type": "stream",
          "text": [
            "[2, 4, 6, 9, 22, 1100]\n"
          ],
          "name": "stdout"
        }
      ]
    },
    {
      "cell_type": "markdown",
      "metadata": {
        "id": "iTDWluX4mmcc",
        "colab_type": "text"
      },
      "source": [
        "# 3.Insertion Sort\n",
        "```\n",
        "Insertion sort is a simple sorting algorithm that works similar to the way you sort playing cards in your hands.\n",
        " The array is virtually split into a sorted and an unsorted part. Values from the unsorted part are picked and placed at the correct position in the sorted part.\n",
        "\n",
        "```"
      ]
    },
    {
      "cell_type": "code",
      "metadata": {
        "id": "r-fbvwrMlOmi",
        "colab_type": "code",
        "colab": {
          "base_uri": "https://localhost:8080/",
          "height": 34
        },
        "outputId": "91e9d49b-51f9-4d86-84e6-7b02c70fa695"
      },
      "source": [
        "def insertionSort(arr):\n",
        "  for i in range(1, len(arr)):\n",
        "    j=i\n",
        "    while j and arr[j-1]>arr[j]:\n",
        "      arr[j],arr[j-1] = arr[j-1],arr[j]\n",
        "      j-=1\n",
        "  return arr\n",
        "arr=[1,2,3,4,5,6,7,8,9]\n",
        "arr=insertionSort(arr)\n",
        "print(arr)"
      ],
      "execution_count": null,
      "outputs": [
        {
          "output_type": "stream",
          "text": [
            "[1, 2, 3, 4, 5, 6, 7, 8, 9]\n"
          ],
          "name": "stdout"
        }
      ]
    },
    {
      "cell_type": "markdown",
      "metadata": {
        "id": "CWDS5EqT0EQ7",
        "colab_type": "text"
      },
      "source": [
        "# 4.Merge Sort\n",
        "```\n",
        " Merge Sort is a Divide and Conquer algorithm. It divides input array in two halves, calls itself for the two halves and then merges the two sorted halves. The merge() function is used for merging two halves. The merge(arr, l, m, r) is key process that assumes that arr[l..m] and arr[m+1..r] are sorted and merges the two sorted sub-arrays into one. See following C implementation for details.\n",
        "\n",
        "MergeSort(arr[], l,  r)\n",
        "If r > l\n",
        "     1. Find the middle point to divide the array into two halves:  \n",
        "             middle m = (l+r)/2\n",
        "     2. Call mergeSort for first half:   \n",
        "             Call mergeSort(arr, l, m)\n",
        "     3. Call mergeSort for second half:\n",
        "             Call mergeSort(arr, m+1, r)\n",
        "     4. Merge the two halves sorted in step 2 and 3:\n",
        "             Call merge(arr, l, m, r)\n",
        "```"
      ]
    },
    {
      "cell_type": "code",
      "metadata": {
        "id": "3lbMFVPWpAY0",
        "colab_type": "code",
        "colab": {}
      },
      "source": [
        "def mergeHelper(left, right):\n",
        "  if not left:\n",
        "    return right\n",
        "  if not right:\n",
        "    return left\n",
        "  i=j=0\n",
        "  temp=[]\n",
        "  while i<len(left) and j<len(right):\n",
        "    if left[i]>right[j]:\n",
        "      temp.append(right[j])\n",
        "      j+=1\n",
        "    else:\n",
        "      temp.append(left[i])\n",
        "      i+=1\n",
        "  while i<len(left):\n",
        "    temp.append(left[i])\n",
        "    i+=1\n",
        "  while j<len(right):\n",
        "    temp.append(right[j])\n",
        "    j+=1\n",
        "  \n",
        "  return temp\n",
        "def mergeSort(arr, l, r):\n",
        "  if l==r:\n",
        "    return [arr[l]]\n",
        "  mid=(l+r)//2\n",
        "  left=mergeSort(arr,l,mid)\n",
        "  right=mergeSort(arr,mid+1,r)\n",
        "  merged=mergeHelper(left,right)\n",
        "  return merged\n",
        "\n",
        "arr=[1,2,3,4,5,6,7,8,9]\n",
        "arr=mergeSort(arr,0,len(arr)-1)"
      ],
      "execution_count": null,
      "outputs": []
    },
    {
      "cell_type": "code",
      "metadata": {
        "id": "RUFN3V431rYI",
        "colab_type": "code",
        "colab": {
          "base_uri": "https://localhost:8080/",
          "height": 34
        },
        "outputId": "490d64da-0538-4eb1-d13a-d32903fafa1f"
      },
      "source": [
        "arr"
      ],
      "execution_count": null,
      "outputs": [
        {
          "output_type": "execute_result",
          "data": {
            "text/plain": [
              "[1, 2, 3, 4, 5, 6, 7, 8, 9]"
            ]
          },
          "metadata": {
            "tags": []
          },
          "execution_count": 15
        }
      ]
    },
    {
      "cell_type": "markdown",
      "metadata": {
        "id": "EeVbsOa7vCLb",
        "colab_type": "text"
      },
      "source": [
        "# 5.Partion an array around the pivot so that elements at left are smaller that pivot and element at the right are greater than pivot element\n"
      ]
    },
    {
      "cell_type": "code",
      "metadata": {
        "id": "ULWBF81Z1sAk",
        "colab_type": "code",
        "colab": {}
      },
      "source": [
        "def partition(arr,pivot, low, high): # pivot is the last element of array in consideration\n",
        "  i=j=0\n",
        "  while i<=high:\n",
        "    if arr[i]<=pivot:\n",
        "      arr[i],arr[j]=arr[j],arr[i]\n",
        "      i+=1\n",
        "      j+=1\n",
        "    else:\n",
        "      i+=1\n",
        "  # print(arr)\n",
        "  return j-1"
      ],
      "execution_count": null,
      "outputs": []
    },
    {
      "cell_type": "code",
      "metadata": {
        "id": "1DR_Viw_SclB",
        "colab_type": "code",
        "colab": {
          "base_uri": "https://localhost:8080/",
          "height": 51
        },
        "outputId": "480ebbf6-05c7-4e2b-cdad-2e8437fe69bd"
      },
      "source": [
        "arr=[3,6,8,1,3,7,9,5]\n",
        "print(partition(arr, arr[-1],0,len(arr)-1))\n",
        "print(arr)"
      ],
      "execution_count": null,
      "outputs": [
        {
          "output_type": "stream",
          "text": [
            "3\n",
            "[3, 1, 3, 5, 8, 7, 9, 6]\n"
          ],
          "name": "stdout"
        }
      ]
    },
    {
      "cell_type": "code",
      "metadata": {
        "id": "y-9USE6PSqwO",
        "colab_type": "code",
        "colab": {}
      },
      "source": [
        "def quickSort(arr,low,high):\n",
        "  if low>=high:\n",
        "    return\n",
        "  pivot=arr[high]\n",
        "  p=partition(arr,pivot, low, high)\n",
        "  quickSort(arr,low,p-1)\n",
        "  quickSort(arr,p+1,high)"
      ],
      "execution_count": null,
      "outputs": []
    },
    {
      "cell_type": "code",
      "metadata": {
        "id": "K1y4P_S6SuTR",
        "colab_type": "code",
        "colab": {
          "base_uri": "https://localhost:8080/",
          "height": 34
        },
        "outputId": "0d4dc8e4-4a28-44c0-8bee-1157276ee70e"
      },
      "source": [
        "arr=[3,6,8,1,3,7,9,5]\n",
        "quickSort(arr, 0, len(arr)-1)\n",
        "print(arr)"
      ],
      "execution_count": null,
      "outputs": [
        {
          "output_type": "stream",
          "text": [
            "[1, 3, 3, 5, 6, 7, 8, 9]\n"
          ],
          "name": "stdout"
        }
      ]
    },
    {
      "cell_type": "code",
      "metadata": {
        "id": "mT9WSIOIUJiZ",
        "colab_type": "code",
        "colab": {}
      },
      "source": [
        ""
      ],
      "execution_count": null,
      "outputs": []
    },
    {
      "cell_type": "markdown",
      "metadata": {
        "id": "YNVU37m2V2G_",
        "colab_type": "text"
      },
      "source": [
        "# 6.Quickselect \n",
        "```\n",
        "It is a selection algorithm to find the k-th smallest element in an unordered list. It is related to the quick sort sorting algorithm.\n",
        "\n",
        "Examples:\n",
        "\n",
        "Input: arr[] = {7, 10, 4, 3, 20, 15}\n",
        "           k = 3\n",
        "Output: 7\n",
        "\n",
        "Input: arr[] = {7, 10, 4, 3, 20, 15}\n",
        "           k = 4\n",
        "Output: 10\n",
        "\n",
        "function quickSelect(list, left, right, k):\n",
        "\n",
        "   if left = right\n",
        "      return list[left]\n",
        "\n",
        "   Select a pivotIndex between left and right\n",
        "\n",
        "   pivotIndex := partition(list, left, right, \n",
        "                                  pivotIndex)\n",
        "   if k = pivotIndex\n",
        "      return list[k]\n",
        "   else if k < pivotIndex\n",
        "      right := pivotIndex - 1\n",
        "   else\n",
        "      left := pivotIndex + 1\n",
        "```"
      ]
    },
    {
      "cell_type": "code",
      "metadata": {
        "id": "80JzrsP8WBj9",
        "colab_type": "code",
        "colab": {}
      },
      "source": [
        "def helper(arr, low, high, k):\n",
        "  pivot= arr[high]\n",
        "  pivotIndex= partition(arr, pivot, low, high)\n",
        "\n",
        "  if pivotIndex<k:\n",
        "    return helper(arr, pivotIndex+1, high,k)\n",
        "  elif pivotIndex>k:\n",
        "    return helper(arr, low, pivotIndex-1 ,k )\n",
        "  else:\n",
        "    return arr[pivotIndex]\n",
        "\n",
        "def quickSelect(arr, k):\n",
        "  return helper(arr, 0, len(arr)-1,k-1)\n"
      ],
      "execution_count": null,
      "outputs": []
    },
    {
      "cell_type": "code",
      "metadata": {
        "id": "HlyJNoRHbizE",
        "colab_type": "code",
        "colab": {
          "base_uri": "https://localhost:8080/",
          "height": 34
        },
        "outputId": "a89278a6-fef6-4534-c2cd-5edcb5e5380f"
      },
      "source": [
        "arr=[7, 10, 4, 3, 20, 15]\n",
        "k=3\n",
        "quickSelect(arr, k)"
      ],
      "execution_count": null,
      "outputs": [
        {
          "output_type": "execute_result",
          "data": {
            "text/plain": [
              "7"
            ]
          },
          "metadata": {
            "tags": []
          },
          "execution_count": 27
        }
      ]
    },
    {
      "cell_type": "markdown",
      "metadata": {
        "id": "SmWSn2u6b5o1",
        "colab_type": "text"
      },
      "source": [
        "# 7.Count Sort\n",
        "```\n",
        "Counting sort is a sorting technique based on keys between a specific range.\n",
        " It works by counting the number of objects having distinct key values (kind of hashing). \n",
        "Then doing some arithmetic to calculate the position of each object in the output sequence.\n",
        "\n",
        "Let us understand it with the help of an example.\n",
        "\n",
        "For simplicity, consider the data in the range 0 to 9. \n",
        "Input data: 1, 4, 1, 2, 7, 5, 2\n",
        "  1) Take a count array to store the count of each unique object.\n",
        "  Index:     0  1  2  3  4  5  6  7  8  9\n",
        "  Count:     0  2  2  0   1  1  0  1  0  0\n",
        "\n",
        "  2) Modify the count array such that each element at each index \n",
        "  stores the sum of previous counts. \n",
        "  Index:     0  1  2  3  4  5  6  7  8  9\n",
        "  Count:     0  2  4  4  5  6  6  7  7  7\n",
        "\n",
        "The modified count array indicates the position of each object in \n",
        "the output sequence.\n",
        " \n",
        "  3) Output each object from the input sequence followed by \n",
        "  decreasing its count by 1.\n",
        "  Process the input data: 1, 4, 1, 2, 7, 5, 2. Position of 1 is 2.\n",
        "  Put data 1 at index 2 in output. Decrease count by 1 to place \n",
        "  next data 1 at an index 1 smaller than this index.\n",
        "```"
      ]
    },
    {
      "cell_type": "code",
      "metadata": {
        "id": "iWgUzbVWbogN",
        "colab_type": "code",
        "colab": {}
      },
      "source": [
        "def countSort(arr):\n",
        "  minn=min(arr)\n",
        "  maxx=max(arr)\n",
        "  count = [0 for each in range(minn,maxx+1)]\n",
        "  for num in arr:\n",
        "    count[num-minn]+=1\n",
        "  for i in range(1,len(count)):\n",
        "    count[i]=count[i-1]+count[i]\n",
        "  res=arr[:]\n",
        "  for i in range(len(arr)-1,-1,-1):\n",
        "    val=arr[i]\n",
        "    idx= count[val-minn]-1\n",
        "    res[idx]=val\n",
        "    count[val-minn]-=1\n",
        "  return res"
      ],
      "execution_count": null,
      "outputs": []
    },
    {
      "cell_type": "code",
      "metadata": {
        "id": "spYyKuvpGnKE",
        "colab_type": "code",
        "colab": {
          "base_uri": "https://localhost:8080/",
          "height": 34
        },
        "outputId": "8bca9833-4eb3-4890-c742-799745555841"
      },
      "source": [
        "countSort([1, 4, 1, 2, 7, 5, 1, 2, 7, 5, 21, 2, 7, 5,])"
      ],
      "execution_count": null,
      "outputs": [
        {
          "output_type": "execute_result",
          "data": {
            "text/plain": [
              "[1, 1, 1, 2, 2, 2, 4, 5, 5, 5, 7, 7, 7, 21]"
            ]
          },
          "metadata": {
            "tags": []
          },
          "execution_count": 9
        }
      ]
    },
    {
      "cell_type": "markdown",
      "metadata": {
        "id": "yRMrwzzGIW8v",
        "colab_type": "text"
      },
      "source": [
        "# 8. 01 Sort\n",
        "sorting binary array or segeregating 0 and 1"
      ]
    },
    {
      "cell_type": "code",
      "metadata": {
        "id": "aJ4hyM66Gr2g",
        "colab_type": "code",
        "colab": {}
      },
      "source": [
        "def sort01(arr):\n",
        "  # # regions\n",
        "  # i to end ----> unknowns\n",
        "  # j to i-1 ---->  1's\n",
        "  # 0 to j-1 ---->  0's\n",
        "  i=j=0\n",
        "  while i <len(arr):\n",
        "    if arr[i]==1:\n",
        "      i+=1\n",
        "    else:\n",
        "      # swap(arr[i],arr[j])\n",
        "      arr[i],arr[j] = arr[j],arr[i]\n",
        "      i+=1\n",
        "      j+=1\n",
        "  return arr"
      ],
      "execution_count": null,
      "outputs": []
    },
    {
      "cell_type": "code",
      "metadata": {
        "id": "yvSD7EGyJXDU",
        "colab_type": "code",
        "colab": {
          "base_uri": "https://localhost:8080/",
          "height": 34
        },
        "outputId": "ee627d59-8456-47b2-8a95-56fcdb24dfbe"
      },
      "source": [
        "sort01([0,1,0,1,0,1,1,0,0,1,1,1,1,0,1,0,1])"
      ],
      "execution_count": null,
      "outputs": [
        {
          "output_type": "execute_result",
          "data": {
            "text/plain": [
              "[0, 0, 0, 0, 0, 0, 0, 1, 1, 1, 1, 1, 1, 1, 1, 1, 1]"
            ]
          },
          "metadata": {
            "tags": []
          },
          "execution_count": 11
        }
      ]
    },
    {
      "cell_type": "markdown",
      "metadata": {
        "id": "az_HKp53Ji74",
        "colab_type": "text"
      },
      "source": [
        "# 9. sort012\n",
        " \n",
        " segerating array"
      ]
    },
    {
      "cell_type": "code",
      "metadata": {
        "id": "7KjDkT3NJgF9",
        "colab_type": "code",
        "colab": {}
      },
      "source": [
        "def sort012(arr):\n",
        "  # # regions\n",
        "  # k+1 to end----> 2's\n",
        "  # i to k ----> unknowns\n",
        "  # j to i-1 ---->  1's\n",
        "  # 0 to j-1 ---->  0's\n",
        "  i=j=0\n",
        "  k=len(arr)-1\n",
        "\n",
        "  while i<=k:\n",
        "    # print(arr[i])\n",
        "    if arr[i]==0:\n",
        "      arr[i],arr[j]=arr[j],arr[i]\n",
        "      i+=1\n",
        "      j+=1\n",
        "    elif arr[i]==1:\n",
        "      i+=1\n",
        "    elif arr[i]==2:\n",
        "      arr[i],arr[k]=arr[k],arr[i]\n",
        "      k-=1\n",
        "  return arr"
      ],
      "execution_count": null,
      "outputs": []
    },
    {
      "cell_type": "code",
      "metadata": {
        "id": "jjV0NOn8ODQE",
        "colab_type": "code",
        "colab": {
          "base_uri": "https://localhost:8080/",
          "height": 34
        },
        "outputId": "efe6e8dc-436c-44fb-de5b-da14f86b5564"
      },
      "source": [
        "sort012([0,0,1,2,2,1,2,1,1,2,2,0,0,2,1,2])"
      ],
      "execution_count": null,
      "outputs": [
        {
          "output_type": "execute_result",
          "data": {
            "text/plain": [
              "[0, 0, 0, 0, 1, 1, 1, 1, 1, 2, 2, 2, 2, 2, 2, 2]"
            ]
          },
          "metadata": {
            "tags": []
          },
          "execution_count": 26
        }
      ]
    },
    {
      "cell_type": "markdown",
      "metadata": {
        "id": "pVFBcZAdZB5r",
        "colab_type": "text"
      },
      "source": [
        "# 10. Two Sum Problem\n"
      ]
    },
    {
      "cell_type": "code",
      "metadata": {
        "id": "QrkrEZl5VYY0",
        "colab_type": "code",
        "colab": {}
      },
      "source": [
        "def twoSum(arr, target):\n",
        "  arr.sort()\n",
        "  l=0\n",
        "  r=len(arr)-1\n",
        "  while l<r:\n",
        "    if arr[l]+arr[r]<target:\n",
        "      l+=1\n",
        "    elif arr[l]+arr[r]> target:\n",
        "      r-=1\n",
        "    else:\n",
        "      print(arr[l],\",\",arr[r])\n",
        "      l+=1\n",
        "      r-=1"
      ],
      "execution_count": null,
      "outputs": []
    },
    {
      "cell_type": "code",
      "metadata": {
        "id": "7CJqCjAuZhM0",
        "colab_type": "code",
        "colab": {
          "base_uri": "https://localhost:8080/",
          "height": 51
        },
        "outputId": "b0ebfdc3-e7df-4687-8cb1-33430fcc90ee"
      },
      "source": [
        "twoSum([3,6,13,4,66,2,5,7], 11)"
      ],
      "execution_count": null,
      "outputs": [
        {
          "output_type": "stream",
          "text": [
            "4 , 7\n",
            "5 , 6\n"
          ],
          "name": "stdout"
        }
      ]
    },
    {
      "cell_type": "markdown",
      "metadata": {
        "id": "DrSLOUADdLwJ",
        "colab_type": "text"
      },
      "source": [
        "# 11. Pivot in Rotated Sorted Array\n"
      ]
    },
    {
      "cell_type": "code",
      "metadata": {
        "id": "XxIAeAefZqz8",
        "colab_type": "code",
        "colab": {}
      },
      "source": [
        "def findPivot(arr):\n",
        "  low=0\n",
        "  high=len(arr)-1\n",
        "  while low<high:\n",
        "    mid=(low+high)//2\n",
        "    if arr[mid]<arr[high]:    # mid to high increasing, so pivot on left of mid\n",
        "      high =mid\n",
        "    else:\n",
        "      low=mid+1\n",
        "  print(\"pivot Index::\",low)\n",
        "  print(\"pivot Value::\",arr[low])\n",
        "  return arr[low]\n"
      ],
      "execution_count": null,
      "outputs": []
    },
    {
      "cell_type": "code",
      "metadata": {
        "id": "vgIU546pd2-H",
        "colab_type": "code",
        "colab": {
          "base_uri": "https://localhost:8080/",
          "height": 68
        },
        "outputId": "bb062be5-f597-4ca8-f435-34592565a46c"
      },
      "source": [
        "findPivot([55,74,88,96,111,1,4,7,8,12])"
      ],
      "execution_count": null,
      "outputs": [
        {
          "output_type": "stream",
          "text": [
            "pivot Index:: 5\n",
            "pivot Value:: 1\n"
          ],
          "name": "stdout"
        },
        {
          "output_type": "execute_result",
          "data": {
            "text/plain": [
              "1"
            ]
          },
          "metadata": {
            "tags": []
          },
          "execution_count": 41
        }
      ]
    },
    {
      "cell_type": "markdown",
      "metadata": {
        "id": "Y3lkTFyteYRa",
        "colab_type": "text"
      },
      "source": [
        "# 12. Radix Sort"
      ]
    },
    {
      "cell_type": "code",
      "metadata": {
        "id": "aIMJYSRkeEBV",
        "colab_type": "code",
        "colab": {}
      },
      "source": [
        ""
      ],
      "execution_count": null,
      "outputs": []
    }
  ]
}