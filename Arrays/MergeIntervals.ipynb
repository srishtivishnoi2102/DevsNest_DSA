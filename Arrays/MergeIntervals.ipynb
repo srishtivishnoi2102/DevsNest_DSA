{
  "nbformat": 4,
  "nbformat_minor": 0,
  "metadata": {
    "colab": {
      "name": "MergeIntervals.ipynb",
      "provenance": [],
      "authorship_tag": "ABX9TyNTtFux9qKwvwISUXaM8wo/",
      "include_colab_link": true
    },
    "kernelspec": {
      "name": "python3",
      "display_name": "Python 3"
    }
  },
  "cells": [
    {
      "cell_type": "markdown",
      "metadata": {
        "id": "view-in-github",
        "colab_type": "text"
      },
      "source": [
        "<a href=\"https://colab.research.google.com/github/srishtivishnoi2102/DevsNest_DSA/blob/master/MergeIntervals.ipynb\" target=\"_parent\"><img src=\"https://colab.research.google.com/assets/colab-badge.svg\" alt=\"Open In Colab\"/></a>"
      ]
    },
    {
      "cell_type": "markdown",
      "metadata": {
        "id": "aApqnlPJu3TO",
        "colab_type": "text"
      },
      "source": [
        "Given a collection of intervals, merge all overlapping intervals.\n",
        "\n",
        "Example 1:\n",
        "\n",
        "Input: [[1,3],[2,6],[8,10],[15,18]]\n",
        "Output: [[1,6],[8,10],[15,18]]\n",
        "Explanation: Since intervals [1,3] and [2,6] overlaps, merge them into [1,6].\n",
        "Example 2:\n",
        "\n",
        "Input: [[1,4],[4,5]]\n",
        "Output: [[1,5]]\n",
        "Explanation: Intervals [1,4] and [4,5] are considered overlapping."
      ]
    },
    {
      "cell_type": "code",
      "metadata": {
        "id": "isx9_nd_rVxk",
        "colab_type": "code",
        "colab": {}
      },
      "source": [
        "def mergeIntervals(intervals):\n",
        "  intervals.sort(key=lambda x:x[0])\n",
        "  result=[intervals[0]]\n",
        "  j=0\n",
        "  for i in range(1,len(intervals)):\n",
        "    prev=result[j]\n",
        "    temp=intervals[i]\n",
        "    if prev[1]>=temp[0]:\n",
        "      result[j]=min(temp[0],prev[0]),max(temp[1],prev[1])\n",
        "    else:\n",
        "      result.append(temp)\n",
        "      j+=1\n",
        "  return result\n"
      ],
      "execution_count": 25,
      "outputs": []
    },
    {
      "cell_type": "markdown",
      "metadata": {
        "id": "QKhBye-Tu2gZ",
        "colab_type": "text"
      },
      "source": [
        ""
      ]
    },
    {
      "cell_type": "code",
      "metadata": {
        "id": "Ftg5W6LnrHuQ",
        "colab_type": "code",
        "colab": {}
      },
      "source": [
        "intervals= [[1,3],[2,6],[8,10],[15,18]]"
      ],
      "execution_count": 26,
      "outputs": []
    },
    {
      "cell_type": "code",
      "metadata": {
        "id": "Dq0qwGxKrU9f",
        "colab_type": "code",
        "colab": {
          "base_uri": "https://localhost:8080/",
          "height": 183
        },
        "outputId": "d48b6ddf-ef56-457f-8c60-df0cd930e025"
      },
      "source": [
        "mergeIntervals(intervals)"
      ],
      "execution_count": 27,
      "outputs": [
        {
          "output_type": "stream",
          "text": [
            "[1, 3]\n",
            "[2, 6]\n",
            "[(1, 6)]\n",
            "(1, 6)\n",
            "[8, 10]\n",
            "[(1, 6), [8, 10]]\n",
            "[8, 10]\n",
            "[15, 18]\n",
            "[(1, 6), [8, 10], [15, 18]]\n"
          ],
          "name": "stdout"
        },
        {
          "output_type": "execute_result",
          "data": {
            "text/plain": [
              "[(1, 6), [8, 10], [15, 18]]"
            ]
          },
          "metadata": {
            "tags": []
          },
          "execution_count": 27
        }
      ]
    },
    {
      "cell_type": "code",
      "metadata": {
        "id": "5h8h1UCdrsd3",
        "colab_type": "code",
        "colab": {}
      },
      "source": [
        ""
      ],
      "execution_count": null,
      "outputs": []
    }
  ]
}
