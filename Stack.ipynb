{
  "nbformat": 4,
  "nbformat_minor": 0,
  "metadata": {
    "colab": {
      "name": "Stack.ipynb",
      "provenance": [],
      "authorship_tag": "ABX9TyNeWXzfsUh5fl7EpzuAhbO3",
      "include_colab_link": true
    },
    "kernelspec": {
      "name": "python3",
      "display_name": "Python 3"
    }
  },
  "cells": [
    {
      "cell_type": "markdown",
      "metadata": {
        "id": "view-in-github",
        "colab_type": "text"
      },
      "source": [
        "<a href=\"https://colab.research.google.com/github/srishtivishnoi2102/DevsNest_DSA/blob/master/Stack.ipynb\" target=\"_parent\"><img src=\"https://colab.research.google.com/assets/colab-badge.svg\" alt=\"Open In Colab\"/></a>"
      ]
    },
    {
      "cell_type": "code",
      "metadata": {
        "id": "v32HCj4cpYyO",
        "colab_type": "code",
        "colab": {}
      },
      "source": [
        ""
      ],
      "execution_count": null,
      "outputs": []
    },
    {
      "cell_type": "markdown",
      "metadata": {
        "id": "go6CjdqdxOh1",
        "colab_type": "text"
      },
      "source": [
        "## 1. Next Largest Element or Nearest Greater to right\n",
        "\n",
        "```\n",
        "Let input sequence be 'arr[]' and size of array be 'n'\n",
        "\n",
        "1) Create a new empty stack S\n",
        "\n",
        "2) For every element 'arr[i]' in the input sequence 'arr[]',\n",
        "   where 'i' goes from  n-1 to 0.\n",
        "  a) if S is empty:\n",
        "           'arr[i]' has no next greater value\n",
        "           NGR[i] = -1\n",
        "\n",
        "  b) else if top element of S is smaller than or equal to 'arr[i]':\n",
        "           while S and S[top]<='arr[i]':\n",
        "               pop S\n",
        "           if S:\n",
        "              NGR[i] =stack[top]\n",
        "           else:\n",
        "              'arr[i]' has no next greater value\n",
        "               NGR[i] = -1 \n",
        "\n",
        "  c) else:\n",
        "           NGR[i] =stack[top]\n",
        "\n",
        "  d) push 'arr[i]' onto S\n",
        "```"
      ]
    },
    {
      "cell_type": "code",
      "metadata": {
        "id": "vJKfIXS6xVP-",
        "colab_type": "code",
        "colab": {
          "base_uri": "https://localhost:8080/",
          "height": 34
        },
        "outputId": "20d85b7f-2668-42b9-dd74-2de40b66645f"
      },
      "source": [
        "\n",
        "def NGR_brute(arr):\n",
        "  if len(arr)<2:\n",
        "    return [-1]\n",
        "  for i in range(0, len(arr)):\n",
        "    curr=arr[i]\n",
        "    arr[i]=-1\n",
        "    for j in range(i+1,len(arr)):\n",
        "      if curr<arr[j]:\n",
        "        arr[i]=arr[j]\n",
        "        break\n",
        "    \n",
        "  return arr\n",
        "  \n",
        "def NGR_stack(arr):\n",
        "  stack=[]\n",
        "  res=[-1 for num in arr] \n",
        "  i=len(arr)-1\n",
        "  while i>=0:\n",
        "    if not stack:\n",
        "      stack.append(arr[i])\n",
        "    elif stack[-1]<=arr[i]:\n",
        "      while stack and stack[-1]<=arr[i]:\n",
        "        stack.pop()\n",
        "      if stack:\n",
        "        res[i]=stack[-1]\n",
        "      stack.append(arr[i])\n",
        "    elif stack[-1]>arr[i]:\n",
        "      res[i]=stack[-1]\n",
        "      stack.append(arr[i])\n",
        "    i-=1\n",
        "  return res\n",
        "\n",
        "\n",
        "arr=[1,3,0,0,1,2,4]\n",
        "NGR_stack(arr)"
      ],
      "execution_count": 4,
      "outputs": [
        {
          "output_type": "execute_result",
          "data": {
            "text/plain": [
              "[3, 4, 1, 1, 2, 4, -1]"
            ]
          },
          "metadata": {
            "tags": []
          },
          "execution_count": 4
        }
      ]
    },
    {
      "cell_type": "markdown",
      "metadata": {
        "id": "Lr7b5MeGzr92",
        "colab_type": "text"
      },
      "source": [
        "## 1. Previous Largest Element or Nearest Greater to Left"
      ]
    },
    {
      "cell_type": "code",
      "metadata": {
        "id": "jihG2nPnzPGE",
        "colab_type": "code",
        "colab": {
          "base_uri": "https://localhost:8080/",
          "height": 34
        },
        "outputId": "08b9f9d2-da7d-4456-ca1f-8016e4375093"
      },
      "source": [
        "def NGL_(arr):\n",
        "  stack=[]\n",
        "  res=[-1 for num in arr]\n",
        "  i=0\n",
        "  while i<len(arr):\n",
        "    if not stack:\n",
        "      stack.append(arr[i])\n",
        "    elif stack[-1]<=arr[i]:\n",
        "      while stack and stack[-1]<=arr[i]:\n",
        "        stack.pop()\n",
        "      if stack:\n",
        "        res[i]=stack[-1]\n",
        "      stack.append(arr[i])\n",
        "    else:\n",
        "      res[i]=stack[-1]\n",
        "      stack.append(arr[i])\n",
        "    i+=1\n",
        "  return res\n",
        "\n",
        "\n",
        "\n",
        "arr=[1,3,0,0,1,2,4]\n",
        "NGL_(arr)"
      ],
      "execution_count": 7,
      "outputs": [
        {
          "output_type": "execute_result",
          "data": {
            "text/plain": [
              "[-1, -1, 3, 3, 3, 3, -1]"
            ]
          },
          "metadata": {
            "tags": []
          },
          "execution_count": 7
        }
      ]
    },
    {
      "cell_type": "markdown",
      "metadata": {
        "id": "-13oExIWHnzH",
        "colab_type": "text"
      },
      "source": [
        "# Nearest Smaller to Left, NSL"
      ]
    },
    {
      "cell_type": "code",
      "metadata": {
        "id": "hXN0iIumdGdM",
        "colab_type": "code",
        "colab": {}
      },
      "source": [
        "def NSL(arr):\n",
        "  s=[]\n",
        "  res=[-1 for num in arr]\n",
        "  i=0\n",
        "  while i<len(arr):\n",
        "    if s and s[-1]>=arr[i]:\n",
        "      while s and s[-1]>=arr[i]:\n",
        "        s.pop()\n",
        "      if s:\n",
        "        res[i]=s[-1]\n",
        "    elif s and s[-1]<arr[i]:\n",
        "      res[i]=s[-1]\n",
        "    s.append(arr[i])\n",
        "    i+=1\n",
        "  return res"
      ],
      "execution_count": 8,
      "outputs": []
    },
    {
      "cell_type": "markdown",
      "metadata": {
        "id": "fr579MyhPZzc",
        "colab_type": "text"
      },
      "source": [
        "# Stock Span Problem\n",
        "```\n",
        "The stock span problem is a financial problem where we have a series of n daily price quotes \n",
        "for a stock and we need to calculate span of \n",
        "stock’s price for all n days.\n",
        "The span Si of the stock’s price on a given day i is defined as the maximum number of consecutive days just before the given day,\n",
        "for which the price of the stock on the current day is less than or equal to its price on the given day.\n",
        "\n",
        "For example, if an array of 7 days prices is given as {100, 80, 60, 70, 60, 75, 85},\n",
        " then the span values for corresponding 7 days are {1, 1, 1, 2, 1, 4, 6}\n",
        "\n"
      ]
    },
    {
      "cell_type": "code",
      "metadata": {
        "id": "hR21qSXxK0Vy",
        "colab_type": "code",
        "colab": {
          "base_uri": "https://localhost:8080/",
          "height": 34
        },
        "outputId": "6565d0cb-2c84-4e75-8c88-e5e8490263be"
      },
      "source": [
        "def stockspan1(arr):\n",
        "  #index          = [  0,  1,  2,  3,  4,  5,  6]\n",
        "  #arr            = [100, 80, 60, 70, 60, 75, 85]\n",
        "  #NGL(arr)       = [ -1,  0,  1,  1,  3,  1,  0]       indices of next greater element to left\n",
        "  #index-NGL(arr) = [  1,  1,  1,  2,  1,  4,  6]\n",
        "  stack=[]\n",
        "  NGL_index=[-1 for num in arr]\n",
        "  i=0\n",
        "  while i<len(arr):\n",
        "    if stack and stack[-1][0]<=arr[i]:\n",
        "      while stack and stack[-1][0]<=arr[i]:\n",
        "        stack.pop()\n",
        "      if stack:\n",
        "        NGL_index[i]=stack[-1][1]\n",
        "      \n",
        "    elif stack and stack[-1][0]>arr[i]:\n",
        "      NGL_index[i]=stack[-1][1]\n",
        "    stack.append([arr[i],i])\n",
        "    i+=1\n",
        "  span=[]\n",
        "  for i in range(len(NGL_index)):\n",
        "    span.append(i-NGL_index[i])\n",
        "  return span\n",
        "\n",
        "\n",
        "def stockspan2(prices):\n",
        "  stack=[]   #stack element is of type [NGA, index]\n",
        "  res=[]\n",
        "  for price in prices:\n",
        "    span=1\n",
        "    if stack and stack[-1][0]<=price:\n",
        "      while stack and stack[-1][0]<=price:\n",
        "        span += stack.pop()[1]\n",
        "    stack.append([price, span])\n",
        "    res.append(span)\n",
        "  return res\n",
        "  \n",
        "\n",
        "\n",
        "\n",
        "# stockspan = consecutive smaller than or equal to current price <---> Nearest greater to left\n",
        "print(stockspan1([100, 80, 60, 70, 60, 75, 85]))"
      ],
      "execution_count": 16,
      "outputs": [
        {
          "output_type": "stream",
          "text": [
            "[1, 1, 1, 2, 1, 4, 6]\n"
          ],
          "name": "stdout"
        }
      ]
    },
    {
      "cell_type": "code",
      "metadata": {
        "id": "YcqxiAuHbMgs",
        "colab_type": "code",
        "colab": {}
      },
      "source": [
        ""
      ],
      "execution_count": null,
      "outputs": []
    }
  ]
}