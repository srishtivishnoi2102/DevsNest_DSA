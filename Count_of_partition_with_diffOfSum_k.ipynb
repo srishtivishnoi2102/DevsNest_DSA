{
  "nbformat": 4,
  "nbformat_minor": 0,
  "metadata": {
    "colab": {
      "name": "Count_of_partition_with_diffOfSum_k.ipynb",
      "provenance": [],
      "authorship_tag": "ABX9TyNT8reV9D7uYZBcJ8d0V2Vx",
      "include_colab_link": true
    },
    "kernelspec": {
      "name": "python3",
      "display_name": "Python 3"
    }
  },
  "cells": [
    {
      "cell_type": "markdown",
      "metadata": {
        "id": "view-in-github",
        "colab_type": "text"
      },
      "source": [
        "<a href=\"https://colab.research.google.com/github/srishtivishnoi2102/DevsNest_DSA/blob/master/Count_of_partition_with_diffOfSum_k.ipynb\" target=\"_parent\"><img src=\"https://colab.research.google.com/assets/colab-badge.svg\" alt=\"Open In Colab\"/></a>"
      ]
    },
    {
      "cell_type": "code",
      "metadata": {
        "id": "yDXE-j_a6qV6",
        "colab_type": "code",
        "colab": {}
      },
      "source": [
        ""
      ],
      "execution_count": null,
      "outputs": []
    },
    {
      "cell_type": "markdown",
      "metadata": {
        "id": "JWIZi2xr8eRJ",
        "colab_type": "text"
      },
      "source": [
        "# For a given array arr, and target difference k\n",
        "# Count the number of ways in which given array can be partitioned into 2 subsets such that difference of their sum is k\n",
        "\n",
        "e.g. arr=[1,1,2,3], k=1\n",
        "answer=1\n",
        "explaination:\n",
        "  possible partitions with difference in sum=1\n",
        "\n",
        "\n",
        "1.   (1,2),   (1,3)\n",
        "2.   (1,2),   (1,3)\n",
        "3.   (1,1,2),   (3)\n",
        "\n",
        "\n"
      ]
    },
    {
      "cell_type": "markdown",
      "metadata": {
        "id": "QOy7rK19-5i9",
        "colab_type": "text"
      },
      "source": [
        "**Approach:**\n",
        "We have to find out the number of ways in which array A can be partitioned into 2 subsets (A1 and A2) and diff of sum of thoe subsets is k\n",
        "\n",
        "sum =s =sum(A )\n",
        "sum1=s1=sum(A1)\n",
        "sum2=s2=sum(A2)\n",
        "\n",
        "According to problem statement,  s1-s2=k, so\n",
        "\n",
        "```\n",
        "s1-s2= k\n",
        "s1+s2= s         \n",
        "```\n",
        "solving these eqn-\n",
        "\n",
        "\n",
        "```\n",
        "  s1= (s+k)//2       if solving for s1\n",
        "  s2= (s-k)//2       if solving for s2\n",
        "\n",
        "```\n",
        "Now we have to count how many subsets of sum =s1(or s2)  are possible using the subset sum problem\n",
        "\n",
        "\n"
      ]
    },
    {
      "cell_type": "code",
      "metadata": {
        "id": "5ktKtpBz82WT",
        "colab_type": "code",
        "colab": {}
      },
      "source": [
        "def subsetSum(arr,sum):\n",
        "  dp=  [[0 for s in range(sum+1)] for rownum in range(len(arr)+1)]\n",
        "  for n in range(len(dp)):\n",
        "    dp[n][0]=1\n",
        "    for s in range(1,len(dp[0])):\n",
        "      if arr[n-1]>s:\n",
        "        #exclude\n",
        "        dp[n][s]=dp[n-1][s]\n",
        "      else:\n",
        "        #exclude+include\n",
        "        dp[n][s]=dp[n-1][s] + dp[n-1][s-arr[n-1]]\n",
        "  for r in dp:\n",
        "    print(r)\n",
        "  # print(\"count::\", dp[-1][-1])\n",
        "  return dp[-1][-1]\n",
        "\n"
      ],
      "execution_count": 41,
      "outputs": []
    },
    {
      "cell_type": "code",
      "metadata": {
        "id": "zEe6DqRTDQdL",
        "colab_type": "code",
        "colab": {}
      },
      "source": [
        "def countPossiblePartition(arr,diff):\n",
        "  s2= (sum(arr)- diff)//2\n",
        "  print(\"S2::\",s2)\n",
        "  count =subsetSum(arr, s2)\n",
        "  return count"
      ],
      "execution_count": 42,
      "outputs": []
    },
    {
      "cell_type": "code",
      "metadata": {
        "id": "COqeLOZOFVAC",
        "colab_type": "code",
        "colab": {
          "base_uri": "https://localhost:8080/",
          "height": 136
        },
        "outputId": "8958e352-94af-4577-ba50-42ef808ad8a7"
      },
      "source": [
        "arr=[1,1,2,3]\n",
        "k=1\n",
        "print(\"Res:: \",countPossiblePartition(arr,k))"
      ],
      "execution_count": 43,
      "outputs": [
        {
          "output_type": "stream",
          "text": [
            "S2:: 3\n",
            "[1, 0, 0, 0]\n",
            "[1, 1, 0, 0]\n",
            "[1, 2, 1, 0]\n",
            "[1, 2, 2, 2]\n",
            "[1, 2, 2, 3]\n",
            "Res::  3\n"
          ],
          "name": "stdout"
        }
      ]
    },
    {
      "cell_type": "code",
      "metadata": {
        "id": "Psi-ypUxODmL",
        "colab_type": "code",
        "colab": {}
      },
      "source": [
        ""
      ],
      "execution_count": 36,
      "outputs": []
    }
  ]
}