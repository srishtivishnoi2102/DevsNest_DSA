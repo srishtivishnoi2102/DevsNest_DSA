{
  "nbformat": 4,
  "nbformat_minor": 0,
  "metadata": {
    "colab": {
      "name": "Number of Islands.ipynb",
      "provenance": [],
      "authorship_tag": "ABX9TyOCYurLhZcqeLOZdA3NhfOO",
      "include_colab_link": true
    },
    "kernelspec": {
      "name": "python3",
      "display_name": "Python 3"
    }
  },
  "cells": [
    {
      "cell_type": "markdown",
      "metadata": {
        "id": "view-in-github",
        "colab_type": "text"
      },
      "source": [
        "<a href=\"https://colab.research.google.com/github/srishtivishnoi2102/DevsNest_DSA/blob/master/Number_of_Islands.ipynb\" target=\"_parent\"><img src=\"https://colab.research.google.com/assets/colab-badge.svg\" alt=\"Open In Colab\"/></a>"
      ]
    },
    {
      "cell_type": "markdown",
      "metadata": {
        "id": "KM3lbILqrPhh",
        "colab_type": "text"
      },
      "source": [
        "200. Number of Islands\n",
        "\n",
        "Given a 2d grid map of '1's (land) and '0's (water), count the number of islands. An island is surrounded by water and is formed by connecting adjacent lands horizontally or vertically. You may assume all four edges of the grid are all surrounded by water.\n",
        "\n",
        "Example 1:\n",
        "\n",
        "Input:\n",
        "11110\n",
        "11010\n",
        "11000\n",
        "00000\n",
        "\n",
        "Output: 1\n",
        "Example 2:\n",
        "\n",
        "Input:\n",
        "11000\n",
        "11000\n",
        "00100\n",
        "00011\n",
        "\n",
        "Output: 3\n"
      ]
    },
    {
      "cell_type": "code",
      "metadata": {
        "id": "nwXWfUFQi4TF",
        "colab_type": "code",
        "colab": {}
      },
      "source": [
        "def safe_to_visit_and_is_1(r,c,grid_map,not_visited):\n",
        "  return 0<=r and r<len(grid_map) and 0<=c and c<len(grid_map[0]) and not_visited[r][c] and grid_map[r][c]==\"1\"\n",
        "\n",
        "\n",
        "def traverse_island(r,c,grid_map,not_visited):\n",
        "\n",
        "  not_visited[r][c]=False\n",
        "  # print(\"traverse_island , not_visited: \",not_visited)\n",
        "\n",
        "  #to traverse connecting nodes/neighbours of a node grid_map[r][c]\n",
        "  # neighbouring nodes will be\n",
        "                         # grid_map[r-1][c]  top\n",
        "                         # grid_map[r+1][c]  bottom\n",
        "                         # grid_map[r][c-1]  left\n",
        "                         # grid_map[r][c+1]  right\n",
        "  r_change=[-1,+1, 0, 0]     \n",
        "  c_change=[ 0, 0,-1,+1]\n",
        "\n",
        "  for k in range(len(r_change)):\n",
        "    temp_r=r+r_change[k]\n",
        "    temp_c=c+c_change[k]\n",
        "\n",
        "\n",
        "     #if safe to visit and not visited before and value is \"1\", then traverse further else skip\n",
        "    if safe_to_visit_and_is_1(temp_r, temp_c, grid_map, not_visited):            \n",
        "      traverse_island(temp_r, temp_c, grid_map, not_visited)\n",
        "\n",
        "def numberOfIslands(grid_map):\n",
        "  \n",
        "  if len(grid_map)==0:\n",
        "    return 0\n",
        "\n",
        "  # element which have been visited once in 1 island will not be considered further, initially no element is visited\n",
        "  not_visited= [[True for j in range(len(grid_map[0]))]for i in range(len(grid_map))] \n",
        "\n",
        "\n",
        "  island_count=0\n",
        "  for r in range(len(grid_map)):\n",
        "    for c in range(len(grid_map[0])):\n",
        "      # print(\"r: \", r)\n",
        "      # print(\"c: \", c)\n",
        "      # print(\"not_visited: \", not_visited)\n",
        "      if not_visited[r][c] and grid_map[r][c]==\"1\":     #skip if element is not \"1\" and has been visited before\n",
        "        # print(\"r: \", r)\n",
        "        # print(\"c: \", c)\n",
        "        \n",
        "        traverse_island(r,c,grid_map,not_visited)\n",
        "        island_count+=1    #increment number of islands and traverse the connecting nodes then\n",
        "        # print(\"inner not_visited: \", not_visited)\n",
        "        # print(\"count: \", island_count)\n",
        "  return island_count\n",
        "\n"
      ],
      "execution_count": 79,
      "outputs": []
    },
    {
      "cell_type": "code",
      "metadata": {
        "id": "SxI6Ej2QiCuA",
        "colab_type": "code",
        "colab": {
          "base_uri": "https://localhost:8080/",
          "height": 33
        },
        "outputId": "5be79d30-0f9f-404b-a9d5-6527d7ed04c2"
      },
      "source": [
        "grid_map=[[\"0\",\"1\",\"0\"],[\"1\",\"0\",\"1\"],[\"0\",\"1\",\"0\"]]\n"
      ],
      "execution_count": 68,
      "outputs": [
        {
          "output_type": "execute_result",
          "data": {
            "text/plain": [
              "[['0', '1', '0'], ['1', '0', '1'], ['0', '1', '0']]"
            ]
          },
          "metadata": {
            "tags": []
          },
          "execution_count": 68
        }
      ]
    },
    {
      "cell_type": "code",
      "metadata": {
        "id": "Qnos4xn6iL-i",
        "colab_type": "code",
        "colab": {
          "base_uri": "https://localhost:8080/",
          "height": 33
        },
        "outputId": "f5f192b5-e50d-4b6f-f38e-e12aa94ede22"
      },
      "source": [
        "numberOfIslands(grid_map)"
      ],
      "execution_count": 69,
      "outputs": [
        {
          "output_type": "execute_result",
          "data": {
            "text/plain": [
              "4"
            ]
          },
          "metadata": {
            "tags": []
          },
          "execution_count": 69
        }
      ]
    },
    {
      "cell_type": "code",
      "metadata": {
        "id": "dDgsbp0AiMXV",
        "colab_type": "code",
        "colab": {}
      },
      "source": [
        ""
      ],
      "execution_count": 15,
      "outputs": []
    },
    {
      "cell_type": "code",
      "metadata": {
        "id": "i2VcHt-EifwF",
        "colab_type": "code",
        "colab": {}
      },
      "source": [
        ""
      ],
      "execution_count": null,
      "outputs": []
    }
  ]
}