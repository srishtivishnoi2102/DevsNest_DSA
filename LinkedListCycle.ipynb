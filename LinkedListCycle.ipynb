{
  "nbformat": 4,
  "nbformat_minor": 0,
  "metadata": {
    "colab": {
      "name": "LinkedListCycle.ipynb",
      "provenance": [],
      "collapsed_sections": [],
      "authorship_tag": "ABX9TyN2OlKvbmap7NwcOYuSDskM",
      "include_colab_link": true
    },
    "kernelspec": {
      "name": "python3",
      "display_name": "Python 3"
    }
  },
  "cells": [
    {
      "cell_type": "markdown",
      "metadata": {
        "id": "view-in-github",
        "colab_type": "text"
      },
      "source": [
        "<a href=\"https://colab.research.google.com/github/srishtivishnoi2102/DevsNest_DSA/blob/master/LinkedListCycle.ipynb\" target=\"_parent\"><img src=\"https://colab.research.google.com/assets/colab-badge.svg\" alt=\"Open In Colab\"/></a>"
      ]
    },
    {
      "cell_type": "markdown",
      "metadata": {
        "id": "4XcnqKYGz5FV",
        "colab_type": "text"
      },
      "source": [
        " by considering two pointers at different speed - a slow pointer and a fast pointer. The slow pointer moves one step at a time while the fast pointer moves two steps at a time.\n",
        "\n",
        "If there is no cycle in the list, the fast pointer will eventually reach the end and we can return false in this case.\n",
        "\n",
        "Now consider a cyclic list and imagine the slow and fast pointers are two runners racing around a circle track. The fast runner will eventually meet the slow runner. Why? Consider this case (we name it case A) - The fast runner is just one step behind the slow runner. In the next iteration, they both increment one and two steps respectively and meet each other.\n",
        "\n",
        "How about other cases? For example, we have not considered cases where the fast runner is two or three steps behind the slow runner yet. This is simple, because in the next or next's next iteration, this case will be reduced to case A mentioned above."
      ]
    },
    {
      "cell_type": "code",
      "metadata": {
        "id": "ljcOX95Uz3jZ",
        "colab_type": "code",
        "colab": {}
      },
      "source": [
        "# Definition for singly-linked list.\n",
        "# class ListNode:\n",
        "#     def __init__(self, x):\n",
        "#         self.val = x\n",
        "#         self.next = None\n",
        "\n",
        "class Solution:\n",
        "    def hasCycle(self, head: ListNode) -> bool:\n",
        "        if head==None or head.next==None:\n",
        "            return False\n",
        "        slow=head\n",
        "        fast=head.next\n",
        "        \n",
        "        while slow!=fast :\n",
        "            if fast==None or fast.next==None:\n",
        "                return False\n",
        "            slow=slow.next\n",
        "            fast=fast.next.next\n",
        "        return True"
      ],
      "execution_count": null,
      "outputs": []
    }
  ]
}