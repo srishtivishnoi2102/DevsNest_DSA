{
  "nbformat": 4,
  "nbformat_minor": 0,
  "metadata": {
    "colab": {
      "name": "Knapsack-0/1 .ipynb",
      "provenance": [],
      "collapsed_sections": [],
      "authorship_tag": "ABX9TyN4lCzcK4VXoFNa2vDB28t0",
      "include_colab_link": true
    },
    "kernelspec": {
      "name": "python3",
      "display_name": "Python 3"
    }
  },
  "cells": [
    {
      "cell_type": "markdown",
      "metadata": {
        "id": "view-in-github",
        "colab_type": "text"
      },
      "source": [
        "<a href=\"https://colab.research.google.com/github/srishtivishnoi2102/DevsNest_DSA/blob/master/Knapsack_0_1_.ipynb\" target=\"_parent\"><img src=\"https://colab.research.google.com/assets/colab-badge.svg\" alt=\"Open In Colab\"/></a>"
      ]
    },
    {
      "cell_type": "code",
      "metadata": {
        "id": "xTKBS_mIZEz_",
        "colab_type": "code",
        "colab": {}
      },
      "source": [
        ""
      ],
      "execution_count": null,
      "outputs": []
    },
    {
      "cell_type": "markdown",
      "metadata": {
        "id": "HOALx1h8ho9O",
        "colab_type": "text"
      },
      "source": [
        "The knapsack problem is a problem in combinatorial optimization: Given a set of items, each with a weight and a value, determine the number of each item to include in a collection so that the total weight is less than or equal to a given limit and the total value is as large as possible. "
      ]
    },
    {
      "cell_type": "code",
      "metadata": {
        "id": "xTC7zoW4hqHV",
        "colab_type": "code",
        "colab": {}
      },
      "source": [
        "value  =[40, 100, 50, 60]\n",
        "weight= [ 2,   1,  4,  3]\n",
        "capacity=6"
      ],
      "execution_count": 14,
      "outputs": []
    },
    {
      "cell_type": "markdown",
      "metadata": {
        "id": "o3DMuBjFrhon",
        "colab_type": "text"
      },
      "source": [
        "## Recursive **Solution**"
      ]
    },
    {
      "cell_type": "code",
      "metadata": {
        "id": "qnMSCajDh2PP",
        "colab_type": "code",
        "colab": {}
      },
      "source": [
        "# Recursive Solution    O(2**n)\n",
        "def knapsack(wt , val , capacity):\n",
        "  if not len(wt) or not capacity:\n",
        "    return 0\n",
        "  # print(wt,val,capacity)\n",
        "  if capacity< wt[0]:\n",
        "    return knapsack(wt[1:] , val[1:] , capacity)  # not taking the items simply\n",
        "  return max( knapsack(wt[1:] , val[1:] , capacity) , val[0] + knapsack(wt[1:] , val[1:] , capacity-wt[0]) )   \n",
        "  # can either select or discard item, and take maximum of that"
      ],
      "execution_count": 17,
      "outputs": []
    },
    {
      "cell_type": "code",
      "metadata": {
        "id": "GTmqNavIidpv",
        "colab_type": "code",
        "colab": {
          "base_uri": "https://localhost:8080/",
          "height": 34
        },
        "outputId": "fa83657f-3e57-4c9d-ef72-31f01352a7e5"
      },
      "source": [
        "print(\"MAX PROFIT::\", knapsack(weight, value, capacity))"
      ],
      "execution_count": 18,
      "outputs": [
        {
          "output_type": "stream",
          "text": [
            "MAX PROFIT:: 200\n"
          ],
          "name": "stdout"
        }
      ]
    },
    {
      "cell_type": "markdown",
      "metadata": {
        "id": "YTJTjPIX61Fx",
        "colab_type": "text"
      },
      "source": [
        "Recursive solution has exponential time complexity of 2**N due to overlapping recursive call (redundant computation)\n",
        "\n",
        "Recursive solution can be converted into DP solution--->>\n",
        "\n",
        "\n",
        "1.   **Memoization**\n",
        "2.   Top Down\n",
        "\n"
      ]
    },
    {
      "cell_type": "code",
      "metadata": {
        "id": "jwcyXl3Qion8",
        "colab_type": "code",
        "colab": {}
      },
      "source": [
        ""
      ],
      "execution_count": 18,
      "outputs": []
    },
    {
      "cell_type": "markdown",
      "metadata": {
        "id": "czRi7scguY3e",
        "colab_type": "text"
      },
      "source": [
        "## Memoization"
      ]
    },
    {
      "cell_type": "code",
      "metadata": {
        "id": "ChJ0Q3WTuYFV",
        "colab_type": "code",
        "colab": {}
      },
      "source": [
        "\n",
        "# Memoization Solution       O(n**2)        (bottom-up)\n",
        "# Since capacity and length of weight array is changing, so we will create Memoization matrix with dimensions, capacity and len(array)\n",
        "\n",
        "t= [[-1 for w in range(capacity+1) ] for index in range(1+len(weight))]  #t[n][w]\n",
        "\n",
        "def knapsack_memoization(wt , val , capacity , n):\n",
        "  if not n or not capacity:\n",
        "    t[n][capacity]=0\n",
        "    return t[n][capacity]\n",
        "  # print(wt,val,capacity)\n",
        "  if t[n][capacity]!=-1:\n",
        "    return t[n][capacity]\n",
        "  if capacity< wt[n-1]:\n",
        "    t[n][capacity]= knapsack_memoization(wt, val, capacity, n-1)  # not taking the items simply\n",
        "  else:\n",
        "    t[n][capacity]= max( knapsack_memoization(wt , val, capacity ,  n-1) , val[n-1] + knapsack_memoization(wt, val, capacity-wt[n-1], n-1) )   \n",
        "  # can either select or discard item, and take maximum of that\n",
        "\n",
        "  return t[n][capacity]"
      ],
      "execution_count": 38,
      "outputs": []
    },
    {
      "cell_type": "code",
      "metadata": {
        "id": "2S5_I9bQv54k",
        "colab_type": "code",
        "colab": {
          "base_uri": "https://localhost:8080/",
          "height": 34
        },
        "outputId": "7898b5f9-4b8c-40be-c39c-5009ad8bd9bb"
      },
      "source": [
        "value  =[40, 100, 50, 60]\n",
        "weight= [ 2,   1,  4,  3]\n",
        "capacity=6\n",
        "print(\"MAX PROFIT::\", knapsack_memoization(weight, value, capacity, len(weight)))"
      ],
      "execution_count": 39,
      "outputs": [
        {
          "output_type": "stream",
          "text": [
            "MAX PROFIT:: 200\n"
          ],
          "name": "stdout"
        }
      ]
    },
    {
      "cell_type": "code",
      "metadata": {
        "id": "6RjpIGjWxvXT",
        "colab_type": "code",
        "colab": {}
      },
      "source": [
        ""
      ],
      "execution_count": null,
      "outputs": []
    },
    {
      "cell_type": "markdown",
      "metadata": {
        "id": "5pI0NdgK7eoV",
        "colab_type": "text"
      },
      "source": [
        "### TOP DOWN APPROACH"
      ]
    },
    {
      "cell_type": "code",
      "metadata": {
        "id": "YkPCcAuO7g91",
        "colab_type": "code",
        "colab": {
          "base_uri": "https://localhost:8080/",
          "height": 442
        },
        "outputId": "8e3534b6-89b7-4587-a7db-7ef974ad57f7"
      },
      "source": [
        "def knapsack_dp(wt,val,capacity):\n",
        "  dp= [[-1 for w in range(capacity+1) ] for index in range(1+len(weight))]  #t[n][w]\n",
        "\n",
        "  for n in range(len(dp)):\n",
        "    for w in range(len(dp[0])):\n",
        "      if n==0 or w==0:\n",
        "        dp[n][w]=0   #base condition\n",
        "      elif wt[n-1] > w :\n",
        "\n",
        "        # t[n][w]= knapsack_memoization(wt, val, w, n-1)\n",
        "        # t[n][w]= func(w, n-1)\n",
        "\n",
        "        dp[n][w]= dp[n-1][w]\n",
        "        print(\"case -I ::\",n,w,dp[n][w])\n",
        "\n",
        "      else:\n",
        "\n",
        "        # t[n][w]= max( knapsack_memoization(wt , val, w ,  n-1) , val[n-1] + knapsack_memoization(wt, val, w-wt[n-1], n-1) )   \n",
        "        # t[n][w]= max( func( w ,  n-1) , val[n-1] + func( w-wt[n-1], n-1) )   \n",
        "\n",
        "        dp[n][w]= max( dp[n-1][w] , val[n-1]+ dp[n-1][w- wt[n-1]]) \n",
        "        print(\"case -II::\",n,w,dp[n][w])\n",
        "  # print(dp)\n",
        "  return dp[-1][-1]\n",
        "  \n",
        "\n",
        "\n",
        "value  =[40, 100, 50, 60]\n",
        "weight= [ 2,   1,  4,  3]\n",
        "capacity=6\n",
        "print(\"MAX PROFIT::\", knapsack_dp(weight, value, capacity))\n",
        "\n"
      ],
      "execution_count": 50,
      "outputs": [
        {
          "output_type": "stream",
          "text": [
            "case -I :: 1 1 0\n",
            "case -II:: 1 2 40\n",
            "case -II:: 1 3 40\n",
            "case -II:: 1 4 40\n",
            "case -II:: 1 5 40\n",
            "case -II:: 1 6 40\n",
            "case -II:: 2 1 100\n",
            "case -II:: 2 2 100\n",
            "case -II:: 2 3 140\n",
            "case -II:: 2 4 140\n",
            "case -II:: 2 5 140\n",
            "case -II:: 2 6 140\n",
            "case -I :: 3 1 100\n",
            "case -I :: 3 2 100\n",
            "case -I :: 3 3 140\n",
            "case -II:: 3 4 140\n",
            "case -II:: 3 5 150\n",
            "case -II:: 3 6 150\n",
            "case -I :: 4 1 100\n",
            "case -I :: 4 2 100\n",
            "case -II:: 4 3 140\n",
            "case -II:: 4 4 160\n",
            "case -II:: 4 5 160\n",
            "case -II:: 4 6 200\n",
            "MAX PROFIT:: 200\n"
          ],
          "name": "stdout"
        }
      ]
    },
    {
      "cell_type": "code",
      "metadata": {
        "id": "UEuPUlwECI7z",
        "colab_type": "code",
        "colab": {}
      },
      "source": [
        "# capacity-->   0,   1,   2,   3,   4,   5,   6   |  wt=[  Item Weights ]   val=[  Item Values  ]     n\n",
        "# ------------------------------------------------|----------------------------------------------------\n",
        "#             [[0,   0,   0,   0,   0,   0,   0], |  wt=[  ,    ,   ,   ]   val=[  ,    ,   ,   ]     0 \n",
        "#              [0,   0,  40,  40,  40,  40,  40], |  wt=[ 2,    ,   ,   ]   val=[40,    ,   ,   ]     1\n",
        "#              [0, 100, 100, 140, 140, 140, 140], |  wt=[ 2,   1,   ,   ]   val=[40, 100,   ,   ]     2\n",
        "#              [0, 100, 100, 140, 140, 150, 150], |  wt=[ 2,   1,  4,   ]   val=[40, 100, 50,   ]     3\n",
        "#              [0, 100, 100, 140, 160, 160, 200]] |  wt=[ 2,   1,  4,  3]   val=[40, 100, 50, 60]     4\n",
        "\n",
        "\n",
        "\n",
        "      elif wt[n-1] > w :\n",
        "        dp[n][w]= dp[n-1][w]\n",
        "      else:\n",
        "        dp[n][w]= max( dp[n-1][w] , val[n-1]+ dp[n-1][w- wt[n-1]]) "
      ],
      "execution_count": 45,
      "outputs": []
    }
  ]
}