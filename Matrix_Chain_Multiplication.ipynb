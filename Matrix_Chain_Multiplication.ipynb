{
  "nbformat": 4,
  "nbformat_minor": 0,
  "metadata": {
    "colab": {
      "name": "Matrix Chain Multiplication.ipynb",
      "provenance": [],
      "authorship_tag": "ABX9TyMhJh/nry1+UyB3bBWc7NTn",
      "include_colab_link": true
    },
    "kernelspec": {
      "name": "python3",
      "display_name": "Python 3"
    }
  },
  "cells": [
    {
      "cell_type": "markdown",
      "metadata": {
        "id": "view-in-github",
        "colab_type": "text"
      },
      "source": [
        "<a href=\"https://colab.research.google.com/github/srishtivishnoi2102/DevsNest_DSA/blob/master/Matrix_Chain_Multiplication.ipynb\" target=\"_parent\"><img src=\"https://colab.research.google.com/assets/colab-badge.svg\" alt=\"Open In Colab\"/></a>"
      ]
    },
    {
      "cell_type": "markdown",
      "metadata": {
        "id": "l-6zx7F3lEhr",
        "colab_type": "text"
      },
      "source": [
        "# Matrix Chain Multiplication Intro\n",
        "\n",
        "We will be given either an array or a string, We need to find the optimal way of breaking in into parts as per some constraints.\n",
        "```\n",
        "We have many options to multiply a chain of matrices because matrix multiplication is associative. In other words, no matter how we parenthesize the product, the result will be the same. For example, if we had four matrices A, B, C, and D, we would have:\n",
        "\n",
        "    (ABC)D = (AB)(CD) = A(BCD) = ....\n",
        "However, the order in which we parenthesize the product affects the number of simple arithmetic operations needed to compute the product, or the efficiency. For example, suppose A is a 10 × 30 matrix, B is a 30 × 5 matrix, and C is a 5 × 60 matrix. Then,\n",
        "\n",
        "    (AB)C = (10×30×5) + (10×5×60) = 1500 + 3000 = 4500 operations\n",
        "    A(BC) = (30×5×60) + (10×30×60) = 9000 + 18000 = 27000 operations.\n",
        "```\n",
        "```\n",
        "Approach:\n",
        "\n",
        "We will choose two index i, j (usually closed to the left , right end points) and we will choose value k between i and j\n",
        "\n",
        "a b c d e f g h\n",
        "0 1 2 3 4 5 6 7\n",
        "\n",
        "let i=0, j=7\n",
        "so k can be 1 <= k <= 6\n",
        "func(i,j):\n",
        "  first we will choose k=k1=1\n",
        "  and the problem will break at k=1\n",
        "  and recursive call will be made for (i'=i,j'=k ) and  (i''=k+1, j''=j)\n",
        "  and their result will be stored as temp_res_k1\n",
        "\n",
        "  we will repeat it for all possible k values and will get a bunch of possible temp_results. Will apply some function over them to select one of it, as per the requirements.\n",
        "  ```"
      ]
    },
    {
      "cell_type": "markdown",
      "metadata": {
        "id": "2fkGI9HhvNOV",
        "colab_type": "text"
      },
      "source": [
        "```\n",
        "def solve(arr, i, j):\n",
        "  if i>j :\n",
        "    return 0         #base condition, can change with question\n",
        "  res = 0    # initialisation may change acc to question\n",
        "  for k in range(i,j,1):       # step size can also change\n",
        "    temp_ans= solve(arr, i, k)  +  solve(arr, k+1, j)      # '+' can also change\n",
        "    res = func(tempres)          #func can be anything, like max or min etc, based on question\n",
        "  return res\n",
        "  ```"
      ]
    },
    {
      "cell_type": "markdown",
      "metadata": {
        "id": "j7yxXrRCBvqf",
        "colab_type": "text"
      },
      "source": [
        "# MCM   \n",
        "Given a sequence of matrices, find the most efficient way to multiply these matrices together. The problem is not actually to  perform the multiplications, but merely to decide in which order to perform the multiplications.\n",
        "```\n",
        "arr  = [40, 20, 30, 10, 30]\n",
        "index= [ 0,  1,  2,  3,  4]\n",
        "n=len(arr] = 5\n",
        "\n",
        "size of matrix, Ai = arr[i-1] x arr[i]\n",
        "\n",
        "\n",
        "#step-1 : select valid values for i, j, first and last possible valid index\n",
        "        if i=0 , then A0= arr[0-1] x arr[0] ----> invalid arr[-1]\n",
        "        if i=1, then A1 =arr[1-1] x arr[1] = arr[0] x arr[1] ----> valid\n",
        "\n",
        "        SO i=1\n",
        "\n",
        "        j max index possible, let j=n\n",
        "        so j=n, An = arr[n-1] x arr[n] --------> invalid as arr[n] is not given\n",
        "        if j=n-1, An-1 = arr[n-1-1] x arr[n-1]\n",
        "                       = arr[n-2] x arr[n-1] --------> valid\n",
        "\n",
        "        SO j=n-1\n",
        "\n",
        "        \n",
        "\n",
        "#step-2  : Base Condition for recursion, smallest invalid input\n",
        "\n",
        "        if i < j : arr-size>0 --> valid\n",
        "        if i ==j : arr-size = 1 --> invalid, as there should be atleast 2 matrix to be multiplied\n",
        "\n",
        "        SO BASE CONDITION:\n",
        "        if i>=j:\n",
        "          return cost=0\n",
        "\n",
        "#step-3  : Move k from i to j:\n",
        "        Four possibile choices are there to move k from i to j:\n",
        "            1.   k=i   to k=j\n",
        "            2.   k=i   to k=j-1\n",
        "            1.   k=i+1 to k=j\n",
        "            2.   k=i+1 to k=j-1\n",
        "\n",
        "            And for each choice, we can break the problem as :\n",
        "                *   [i,k]   + [k+1,j]\n",
        "                *   [i,k-1] + [k,j]\n",
        "```       \n",
        "**Choice 1: k=i   to k=j**\n",
        "```\n",
        " *   [i,k] + [k+1,j] \n",
        "         [k+1,j]-->at k=j-->[j+1,j] ---- > IV -> Invalid\n",
        "\n",
        " *   [i,k-1] + [k,j]\n",
        "         [i,k-1]-->at k=i-->[i,i-1] ---- > IV -> Invalid\n",
        "```\n",
        "**Choice 2: k=i   to k=j-1**\n",
        "```\n",
        " *   [i,k]  + [k+1,j] \n",
        "         [i,k]-->at  k=i -->  [i,i ] ----- > V  \n",
        "         [k+1,j]-->at k=j-1--> [j, j] ---- > V  -> Valid\n",
        "\n",
        "\n",
        " *   [i,k-1] + [k,j]\n",
        "         [i,k-1]-->at k=i--> [i,i-1] ----- > IV -> Invalid\n",
        "```\n",
        "**Choice 3: k=i+1   to k=j**\n",
        "```\n",
        " *   [i,k]   + [k+1,j] \n",
        "         [k+1 , j]--> at k=j--> [j+1, j] --------- > IV  -> InValid\n",
        "\n",
        "\n",
        " *   [i,k-1] + [k,j]\n",
        "         [i,k-1]-->at k=i+1-->[i,i+1-1]->[i,i] ---- >  V \n",
        "         [k , j]--> at k=j--> [j, j] ------- ------ >  V -> Valid\n",
        "```\n",
        "**choice 4: k=i+1 to k=j-1**\n",
        "```\n",
        "    before break:\n",
        "      Number of matrix covered= j-i  \n",
        "    after  break:  [i,k]   + [k+1,j] \n",
        "      Number of matrix covered= (k-i) + (j-(k+1)) \n",
        "                              = k-i + j- k-1 \n",
        "                              = j-i - 1\n",
        "    after  break:  [i,k-1]   + [k,j] \n",
        "      Number of matrix covered= ((k-1)-i) + (j-k)\n",
        "                              = k-1-i + j- k\n",
        "                              = j-i - 1\n",
        "\n",
        "                After break != Before Break\n",
        "                So invalid choice\n",
        "```\n",
        "```\n",
        "So two valid schemes are :\n",
        "       I. k = i   to k = j-1\n",
        "        break :   [i,k]   + [k+1,j]\n",
        "\n",
        "      II. k = i+1 to k = j\n",
        "        break :   [i,k-1] + [k,j]\n",
        "    We can choose any one these two\n",
        "\n",
        "\n",
        "#step -4 :\n",
        "solve(i,j): \n",
        "  res=0\n",
        "  for(k=i; k<=j-1; k++):\n",
        "    templeft= solve(i,k)\n",
        "    tempright=solve(k+1,j)\n",
        "\n",
        "    temp_leftright = cost for multiplying left part and right part matrix\n",
        "                    matrx_left X  matrix_right\n",
        "                    arr[i-1] * arr[k] * arr[j]\n",
        "\n",
        "    tempres = templeft + temp_leftright + tempright\n",
        "\n",
        "    res=min(res,tempres)\n",
        "  return res\n",
        "\n",
        "```      "
      ]
    },
    {
      "cell_type": "markdown",
      "metadata": {
        "id": "AzP1leb4ciWs",
        "colab_type": "text"
      },
      "source": [
        "## Recursive Solution: \n",
        "Time complexity : exponential O(n^n)"
      ]
    },
    {
      "cell_type": "code",
      "metadata": {
        "id": "YNadClO1mo61",
        "colab_type": "code",
        "colab": {}
      },
      "source": [
        "\n",
        "def MCM(arr):\n",
        "  def helper(i,j):\n",
        "    if i>=j:\n",
        "      return 0\n",
        "    res=float('inf')\n",
        "    for k in range(i,j):\n",
        "      tempres = helper(i,k) +  (arr[i-1]*arr[k]*arr[j]) +  helper(k+1,j)\n",
        "      if res>tempres:\n",
        "        res=tempres\n",
        "        # print(arr[i-1],arr[k],arr[j])\n",
        "    return res\n",
        "  i=1\n",
        "  j=len(arr)-1\n",
        "  return helper(i,j)\n"
      ],
      "execution_count": 43,
      "outputs": []
    },
    {
      "cell_type": "code",
      "metadata": {
        "id": "qRVB5Fr2avLT",
        "colab_type": "code",
        "colab": {
          "base_uri": "https://localhost:8080/",
          "height": 34
        },
        "outputId": "3729a1df-f7ef-4904-d6ab-b2ccf7288c80"
      },
      "source": [
        "arr =[1,2,3,4,3]\n",
        "MCM(arr)"
      ],
      "execution_count": 46,
      "outputs": [
        {
          "output_type": "execute_result",
          "data": {
            "text/plain": [
              "30"
            ]
          },
          "metadata": {
            "tags": []
          },
          "execution_count": 46
        }
      ]
    },
    {
      "cell_type": "code",
      "metadata": {
        "id": "2ly740sYtRz0",
        "colab_type": "code",
        "colab": {}
      },
      "source": [
        ""
      ],
      "execution_count": null,
      "outputs": []
    },
    {
      "cell_type": "markdown",
      "metadata": {
        "id": "wophahPitTjr",
        "colab_type": "text"
      },
      "source": [
        "# MCM MEMOISATION"
      ]
    },
    {
      "cell_type": "code",
      "metadata": {
        "id": "F9waA2gdZoOS",
        "colab_type": "code",
        "colab": {}
      },
      "source": [
        "\n",
        "def MCM2(arr):\n",
        "  dp=[[-1 for i in range(1+len(arr))] for j in range(1+len(arr))]\n",
        "  def helper(i,j):\n",
        "    if dp[i][j]!=-1:\n",
        "      return dp[i][j]\n",
        "    \n",
        "    if i==j:\n",
        "      dp[i][j] =0\n",
        "      return dp[i][j]\n",
        "    res=float('inf')\n",
        "    for k in range(i,j):\n",
        "      tempres = helper(i,k) +  (arr[i-1]*arr[k]*arr[j]) +  helper(k+1,j)\n",
        "      if res>tempres:\n",
        "        res=tempres\n",
        "    dp[i][j]=res\n",
        "    return res\n",
        "  i=1\n",
        "  j=len(arr)-1\n",
        "  return helper(i,j)"
      ],
      "execution_count": 62,
      "outputs": []
    },
    {
      "cell_type": "code",
      "metadata": {
        "id": "jsqy6OL-uI9d",
        "colab_type": "code",
        "colab": {
          "base_uri": "https://localhost:8080/",
          "height": 34
        },
        "outputId": "8c0d1053-9f41-437c-fd23-33f682df914d"
      },
      "source": [
        "arr =[10, 20, 30, 40, 30, 10, 20, 30, 40, 30, 10, 20, 30, 40, 30, 10, 20, 30, 40, 30]\n",
        "MCM2(arr)"
      ],
      "execution_count": 63,
      "outputs": [
        {
          "output_type": "execute_result",
          "data": {
            "text/plain": [
              "130000"
            ]
          },
          "metadata": {
            "tags": []
          },
          "execution_count": 63
        }
      ]
    },
    {
      "cell_type": "markdown",
      "metadata": {
        "id": "v67CjxtswQoZ",
        "colab_type": "text"
      },
      "source": [
        "## Time Complexity - n^3"
      ]
    },
    {
      "cell_type": "code",
      "metadata": {
        "id": "CDqK8M-LuKK7",
        "colab_type": "code",
        "colab": {}
      },
      "source": [
        ""
      ],
      "execution_count": null,
      "outputs": []
    }
  ]
}