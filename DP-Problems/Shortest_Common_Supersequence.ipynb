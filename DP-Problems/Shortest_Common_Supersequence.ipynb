{
  "nbformat": 4,
  "nbformat_minor": 0,
  "metadata": {
    "colab": {
      "name": "Shortest Common Supersequence.ipynb",
      "provenance": [],
      "authorship_tag": "ABX9TyPcDX4OsEoxQ+06DY2zP12y",
      "include_colab_link": true
    },
    "kernelspec": {
      "name": "python3",
      "display_name": "Python 3"
    }
  },
  "cells": [
    {
      "cell_type": "markdown",
      "metadata": {
        "id": "view-in-github",
        "colab_type": "text"
      },
      "source": [
        "<a href=\"https://colab.research.google.com/github/srishtivishnoi2102/DevsNest_DSA/blob/master/DP-Problems/Shortest_Common_Supersequence.ipynb\" target=\"_parent\"><img src=\"https://colab.research.google.com/assets/colab-badge.svg\" alt=\"Open In Colab\"/></a>"
      ]
    },
    {
      "cell_type": "code",
      "metadata": {
        "id": "gYiVSiBTh4J8",
        "colab_type": "code",
        "colab": {}
      },
      "source": [
        ""
      ],
      "execution_count": null,
      "outputs": []
    },
    {
      "cell_type": "markdown",
      "metadata": {
        "id": "OgxFlAOWixp8",
        "colab_type": "text"
      },
      "source": [
        "# Shortest Common Supersequence\n",
        "\n",
        "Given two strings str1 and str2, return the shortest string that has both str1 and str2 as subsequences.  If multiple answers exist, you may return any of them.\n",
        "\n",
        "(A string S is a subsequence of string T if deleting some number of characters from T (possibly 0, and the characters are chosen anywhere from T) results in the string S.)\n",
        "\n",
        "``` \n",
        "Example 1:\n",
        "\n",
        "Input: str1 = \"abac\", str2 = \"cab\"\n",
        "Output: \"cabac\"\n",
        "Explanation: \n",
        "str1 = \"abac\" is a subsequence of \"cabac\" because we can delete the first \"c\".\n",
        "str2 = \"cab\" is a subsequence of \"cabac\" because we can delete the last \"ac\".\n",
        "The answer provided is the shortest such string that satisfies these properties.\n",
        "```"
      ]
    },
    {
      "cell_type": "markdown",
      "metadata": {
        "id": "2A4h2MU9ocpU",
        "colab_type": "text"
      },
      "source": [
        "```\n",
        "Count of Minimum Length Supersequence = Len(A) + Len(B) - Len(LCS(A,B))\n",
        "```"
      ]
    },
    {
      "cell_type": "code",
      "metadata": {
        "id": "bjgQWg2Mi7f4",
        "colab_type": "code",
        "colab": {}
      },
      "source": [
        "def shortestCommonSupersequence(str1, str2):\n",
        "\n",
        "    dp=[[0 for s2 in range(1+len(str2))] for s1 in range(1+len(str1)) ]\n",
        "    for m in range(1,len(dp)):\n",
        "        for n in range(1,len(dp[0])):\n",
        "            if str1[m-1]==str2[n-1]:\n",
        "                dp[m][n]= 1+dp[m-1][n-1]\n",
        "            else:\n",
        "                dp[m][n]= max( dp[m][n-1], dp[m-1][n])\n",
        "    lenlcs=dp[-1][-1]\n",
        "    scs=\"\"\n",
        "    r=len(str1)\n",
        "    c=len(str2)\n",
        "\n",
        "    while lenlcs:\n",
        "        if str1[r-1]==str2[c-1]:\n",
        "            scs=str1[r-1]+scs\n",
        "            r-=1\n",
        "            c-=1\n",
        "            lenlcs-=1\n",
        "        elif dp[r-1][c]>dp[r][c-1]:\n",
        "            scs= str1[r-1]+scs\n",
        "            r-=1\n",
        "        else:\n",
        "            scs= str2[c-1]+scs\n",
        "            c-=1\n",
        "\n",
        "    while r:\n",
        "        scs=str1[r-1]+scs\n",
        "        r-=1\n",
        "    while c:\n",
        "        scs=str2[c-1]+scs\n",
        "        c-=1\n",
        "    return scs\n",
        "                \n",
        "            "
      ],
      "execution_count": 1,
      "outputs": []
    },
    {
      "cell_type": "code",
      "metadata": {
        "id": "rj0QZ0rhmife",
        "colab_type": "code",
        "colab": {}
      },
      "source": [
        ""
      ],
      "execution_count": null,
      "outputs": []
    }
  ]
}