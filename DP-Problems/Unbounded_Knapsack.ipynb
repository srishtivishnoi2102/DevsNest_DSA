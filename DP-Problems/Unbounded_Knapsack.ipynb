{
  "nbformat": 4,
  "nbformat_minor": 0,
  "metadata": {
    "colab": {
      "name": "Unbounded Knapsack.ipynb",
      "provenance": [],
      "authorship_tag": "ABX9TyMN1UoOw4KcuFkvBo73G/90",
      "include_colab_link": true
    },
    "kernelspec": {
      "name": "python3",
      "display_name": "Python 3"
    }
  },
  "cells": [
    {
      "cell_type": "markdown",
      "metadata": {
        "id": "view-in-github",
        "colab_type": "text"
      },
      "source": [
        "<a href=\"https://colab.research.google.com/github/srishtivishnoi2102/DevsNest_DSA/blob/master/Unbounded_Knapsack.ipynb\" target=\"_parent\"><img src=\"https://colab.research.google.com/assets/colab-badge.svg\" alt=\"Open In Colab\"/></a>"
      ]
    },
    {
      "cell_type": "markdown",
      "metadata": {
        "id": "oRnTBD5kdZc1",
        "colab_type": "text"
      },
      "source": [
        "## Unbounded Knapsack (Repetition of items allowed)\n",
        "Given a knapsack weight W and a set of n items with certain value vali and weight wti, we need to calculate minimum amount that could make up this quantity exactly. This is different from classical Knapsack problem, here we are allowed to use unlimited number of instances of an item.\n",
        "```\n",
        "Examples:\n",
        "\n",
        "Input : W = 100\n",
        "       val[]  = {1, 30}\n",
        "       wt[] = {1, 50}\n",
        "Output : 100\n",
        "There are many ways to fill knapsack.\n",
        "1) 2 instances of 50 unit weight item.\n",
        "2) 100 instances of 1 unit weight item.\n",
        "3) 1 instance of 50 unit weight item and 50\n",
        "   instances of 1 unit weight items.\n",
        "We get maximum value with option 2.\n",
        "\n",
        "Input : W = 8\n",
        "       val[] = {10, 40, 50, 70}\n",
        "       wt[]  = {1, 3, 4, 5}       \n",
        "Output : 110 \n",
        "We get maximum value with one unit of\n",
        "weight 5 and one unit of weight 3.\n",
        "\n",
        "\n",
        "```\n",
        "\n",
        "```\n",
        "Recursive Approach:\n",
        "Each item can be discarded or can be selected, \n",
        "    if the item is discarded, it won't be considered further\n",
        "    if the item is selected , it will be still availble to process after selection, as multiple occurences are allowed\n",
        "\n",
        "Base condition: \n",
        "if s==0 or n=0,i.e., no array element is available:\n",
        "    res=0\n",
        "else:\n",
        "    if capacity< arr[n-1]:          #we have to discard it, can select it\n",
        "        res = knapsack (exclude)\n",
        "    \n",
        "    else:\n",
        "        res=  knapsack (include) + knapsack (exclude)\n",
        "\n",
        "knapsack (exclude) = knapsack (capacity , n-1)\n",
        "\n",
        "knapsack (include) = vals[n-1] + knapsack (capacity- wts[n-1] ,n ) \n",
        " \n",
        "# after including once, the element will still be available for further selection if needed, so n won't be decremented.\n",
        " This is how it is different from the 0/1 knapsack\n",
        "  \n",
        "```\n",
        "\n"
      ]
    },
    {
      "cell_type": "markdown",
      "metadata": {
        "id": "akn8L0-ADYfU",
        "colab_type": "text"
      },
      "source": [
        "```\n",
        "Time complexity - \n",
        "\n",
        "```"
      ]
    },
    {
      "cell_type": "code",
      "metadata": {
        "id": "-rs2ic8mdjWY",
        "colab_type": "code",
        "colab": {}
      },
      "source": [
        "def knapsack(W, vals, wts, i):\n",
        "  if i==0 or W==0:\n",
        "    return 0\n",
        "  if W< wts[i-1]:\n",
        "    return knapsack(W, vals, wts, i-1)\n",
        "  else:\n",
        "    return max(knapsack(W, vals, wts, i-1) , vals[i-1] + knapsack(W-wts[i-1], vals, wts, i) )"
      ],
      "execution_count": 9,
      "outputs": []
    },
    {
      "cell_type": "code",
      "metadata": {
        "id": "L847aFP37PXG",
        "colab_type": "code",
        "colab": {
          "base_uri": "https://localhost:8080/",
          "height": 34
        },
        "outputId": "20a0e541-b573-4fab-9b56-f2a205c72690"
      },
      "source": [
        "W = 8\n",
        "vals=[10, 40, 50, 70]\n",
        "wts =[1 ,  3,  4,  5]\n",
        "\n",
        "#uncomment the below example to see how the time complexity of naive solution suckss\n",
        "\n",
        "# W = 158\n",
        "# vals=[10, 40, 50, 40, 50, 70, 10, 70,10, 40, 50, 70]          \n",
        "# wts =[1 ,  3,  4,  5,  2,  6,  9,  7, 3,  9, 11,  8]\n",
        "\n",
        "knapsack(W,vals, wts, len(vals))"
      ],
      "execution_count": 19,
      "outputs": [
        {
          "output_type": "execute_result",
          "data": {
            "text/plain": [
              "110"
            ]
          },
          "metadata": {
            "tags": []
          },
          "execution_count": 19
        }
      ]
    },
    {
      "cell_type": "code",
      "metadata": {
        "id": "TSFVKQlTCJP1",
        "colab_type": "code",
        "colab": {}
      },
      "source": [
        ""
      ],
      "execution_count": null,
      "outputs": []
    },
    {
      "cell_type": "markdown",
      "metadata": {
        "id": "yTeUJDX5CJ_k",
        "colab_type": "text"
      },
      "source": [
        "## DP solution \n",
        "\n",
        "\n",
        "```\n",
        "Time Complexity  - O(W*N)\n",
        "```\n",
        "\n"
      ]
    },
    {
      "cell_type": "code",
      "metadata": {
        "id": "PITRrajr7bCn",
        "colab_type": "code",
        "colab": {}
      },
      "source": [
        "def knapsack_dp(W, vals, wts):\n",
        "  dp=[[0 for wt in range(1+W)] for r in range(1+len(vals))]\n",
        "\n",
        "  for r in range(1,len(dp)):\n",
        "    for w in range(1,len(dp[0])):\n",
        "      if w<wts[r-1]:\n",
        "        dp[r][w] = dp[r-1][w]\n",
        "      else:\n",
        "        dp[r][w] = max(dp[r-1][w] , vals[r-1] +  dp[r][w-wts[r-1]])\n",
        "  return dp[-1][-1]\n",
        "      "
      ],
      "execution_count": 15,
      "outputs": []
    },
    {
      "cell_type": "code",
      "metadata": {
        "id": "wjUp7a7DBwTl",
        "colab_type": "code",
        "colab": {
          "base_uri": "https://localhost:8080/",
          "height": 34
        },
        "outputId": "74b43d09-48e7-4887-a7e6-488d757dc53f"
      },
      "source": [
        "W = 8\n",
        "vals=[10, 40, 50, 70]\n",
        "wts =[1 ,  3,  4,  5]\n",
        "\n",
        "#uncomment the below example to see how the time complexity is improved with help of memoisation and writing the iterative solution\n",
        "\n",
        "W = 158\n",
        "vals=[10, 40, 50, 40, 50, 70, 10, 70,10, 40, 50, 70]          \n",
        "wts =[1 ,  3,  4,  5,  2,  6,  9,  7, 3,  9, 11,  8]\n",
        "\n",
        "knapsack_dp(W, vals, wts)"
      ],
      "execution_count": 20,
      "outputs": [
        {
          "output_type": "execute_result",
          "data": {
            "text/plain": [
              "3950"
            ]
          },
          "metadata": {
            "tags": []
          },
          "execution_count": 20
        }
      ]
    },
    {
      "cell_type": "code",
      "metadata": {
        "id": "g5lnZwHeB3m-",
        "colab_type": "code",
        "colab": {}
      },
      "source": [
        ""
      ],
      "execution_count": null,
      "outputs": []
    }
  ]
}
