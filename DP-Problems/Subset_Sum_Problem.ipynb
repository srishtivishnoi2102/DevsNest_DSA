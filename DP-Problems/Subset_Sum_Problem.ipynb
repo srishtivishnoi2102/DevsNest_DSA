{
  "nbformat": 4,
  "nbformat_minor": 0,
  "metadata": {
    "colab": {
      "name": "Subset Sum Problem.ipynb",
      "provenance": [],
      "authorship_tag": "ABX9TyM0S/J0RhNMZuIn53m1y5YB",
      "include_colab_link": true
    },
    "kernelspec": {
      "name": "python3",
      "display_name": "Python 3"
    }
  },
  "cells": [
    {
      "cell_type": "markdown",
      "metadata": {
        "id": "view-in-github",
        "colab_type": "text"
      },
      "source": [
        "<a href=\"https://colab.research.google.com/github/srishtivishnoi2102/DevsNest_DSA/blob/master/DP-Problems/Subset_Sum_Problem.ipynb\" target=\"_parent\"><img src=\"https://colab.research.google.com/assets/colab-badge.svg\" alt=\"Open In Colab\"/></a>"
      ]
    },
    {
      "cell_type": "code",
      "metadata": {
        "id": "1hrJX8zot16h",
        "colab_type": "code",
        "colab": {}
      },
      "source": [
        ""
      ],
      "execution_count": 12,
      "outputs": []
    },
    {
      "cell_type": "markdown",
      "metadata": {
        "id": "k8DXVkt68jq1",
        "colab_type": "text"
      },
      "source": [
        "## Recursive Solution"
      ]
    },
    {
      "cell_type": "code",
      "metadata": {
        "id": "h1TLzfYjzQ9U",
        "colab_type": "code",
        "colab": {}
      },
      "source": [
        "def subset_sum(arr, sum, ci):\n",
        "  if sum==0:\n",
        "    return True\n",
        "  elif ci==len(arr):\n",
        "    return False\n",
        "  if arr[ci]>sum:\n",
        "    return subset_sum(arr,sum,ci+1)\n",
        "  else:\n",
        "    return subset_sum(arr,sum-arr[ci],ci+1) or subset_sum(arr,sum,ci+1)"
      ],
      "execution_count": 27,
      "outputs": []
    },
    {
      "cell_type": "code",
      "metadata": {
        "id": "bEHF2K8C1yGB",
        "colab_type": "code",
        "colab": {
          "base_uri": "https://localhost:8080/",
          "height": 34
        },
        "outputId": "144e6dcc-a309-4aa3-e274-e4fa550d1642"
      },
      "source": [
        "arr=[1,4,7,6]\n",
        "sum=5\n",
        "subset_sum(arr,sum,0)"
      ],
      "execution_count": 28,
      "outputs": [
        {
          "output_type": "execute_result",
          "data": {
            "text/plain": [
              "True"
            ]
          },
          "metadata": {
            "tags": []
          },
          "execution_count": 28
        }
      ]
    },
    {
      "cell_type": "code",
      "metadata": {
        "id": "JBkWD4iz1z64",
        "colab_type": "code",
        "colab": {}
      },
      "source": [
        ""
      ],
      "execution_count": 25,
      "outputs": []
    },
    {
      "cell_type": "markdown",
      "metadata": {
        "id": "-Mxf3ODH8pg7",
        "colab_type": "text"
      },
      "source": [
        "## DP Solution"
      ]
    },
    {
      "cell_type": "code",
      "metadata": {
        "id": "-aA6WM328rbk",
        "colab_type": "code",
        "colab": {}
      },
      "source": [
        "def subset_sum_dp(arr, sum):\n",
        "  dp= [[False for s in range(sum+1)] for row in range(len(arr)+1)]\n",
        "  for r in range(len(dp)):\n",
        "    dp[r][0] =True\n",
        "  for n in range(1,len(arr)+1):\n",
        "    for s in range(1, sum+1):\n",
        "      if arr[n-1]>sum:\n",
        "        dp[n][s]= dp[n-1][s]\n",
        "      else:\n",
        "        dp[n][s]= dp[n-1][s] or dp[n-1][s-arr[n-1]]\n",
        "  return dp[len(arr)][sum]"
      ],
      "execution_count": 29,
      "outputs": []
    },
    {
      "cell_type": "code",
      "metadata": {
        "id": "RzRnUYXc9lKX",
        "colab_type": "code",
        "colab": {
          "base_uri": "https://localhost:8080/",
          "height": 34
        },
        "outputId": "1b2c9e35-9e00-45c7-e3a7-74d0afdee9ec"
      },
      "source": [
        "arr=[1,4,7,6]\n",
        "sum=5\n",
        "subset_sum_dp(arr,sum)"
      ],
      "execution_count": 31,
      "outputs": [
        {
          "output_type": "execute_result",
          "data": {
            "text/plain": [
              "True"
            ]
          },
          "metadata": {
            "tags": []
          },
          "execution_count": 31
        }
      ]
    },
    {
      "cell_type": "code",
      "metadata": {
        "id": "nHnP5SKc9rFy",
        "colab_type": "code",
        "colab": {}
      },
      "source": [
        ""
      ],
      "execution_count": 31,
      "outputs": []
    }
  ]
}