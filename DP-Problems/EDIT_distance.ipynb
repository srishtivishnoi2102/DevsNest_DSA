{
  "nbformat": 4,
  "nbformat_minor": 0,
  "metadata": {
    "colab": {
      "name": "EDIT distance.ipynb",
      "provenance": [],
      "authorship_tag": "ABX9TyOuyqzKj720I8Qh4tjexNa4",
      "include_colab_link": true
    },
    "kernelspec": {
      "name": "python3",
      "display_name": "Python 3"
    }
  },
  "cells": [
    {
      "cell_type": "markdown",
      "metadata": {
        "id": "view-in-github",
        "colab_type": "text"
      },
      "source": [
        "<a href=\"https://colab.research.google.com/github/srishtivishnoi2102/DevsNest_DSA/blob/master/DP-Problems/EDIT_distance.ipynb\" target=\"_parent\"><img src=\"https://colab.research.google.com/assets/colab-badge.svg\" alt=\"Open In Colab\"/></a>"
      ]
    },
    {
      "cell_type": "code",
      "metadata": {
        "id": "aNEO-o6x_zqs",
        "colab_type": "code",
        "colab": {}
      },
      "source": [
        ""
      ],
      "execution_count": null,
      "outputs": []
    },
    {
      "cell_type": "markdown",
      "metadata": {
        "id": "dg1Dw6t0A6Mj",
        "colab_type": "text"
      },
      "source": [
        "# Edit Distance\n",
        "\n",
        "Given two words word1 and word2, find the minimum number of operations required to convert word1 to word2.\n",
        "```\n",
        "You have the following 3 operations permitted on a word:\n",
        "\n",
        "Insert a character\n",
        "Delete a character\n",
        "Replace a character\n",
        "Example 1:\n",
        "\n",
        "Input: word1 = \"horse\", word2 = \"ros\"\n",
        "Output: 3\n",
        "Explanation: \n",
        "horse -> rorse (replace 'h' with 'r')\n",
        "rorse -> rose (remove 'r')\n",
        "rose -> ros (remove 'e')\n",
        "Example 2:\n",
        "\n",
        "Input: word1 = \"intention\", word2 = \"execution\"\n",
        "Output: 5\n",
        "Explanation: \n",
        "intention -> inention (remove 't')\n",
        "inention -> enention (replace 'i' with 'e')\n",
        "enention -> exention (replace 'n' with 'x')\n",
        "exention -> exection (replace 'n' with 'c')\n",
        "exection -> execution (insert 'u')\n",
        "```\n",
        "\n"
      ]
    },
    {
      "cell_type": "code",
      "metadata": {
        "id": "t9JtiQyNBGNP",
        "colab_type": "code",
        "colab": {}
      },
      "source": [
        ""
      ],
      "execution_count": null,
      "outputs": []
    },
    {
      "cell_type": "markdown",
      "metadata": {
        "id": "Lmpx1tNfBMEJ",
        "colab_type": "text"
      },
      "source": [
        "# Brute Force Recursion\n",
        "\n",
        "\n",
        "```\n",
        "\n",
        "Base conditions:\n",
        "    if len(w1) in 0-----> answer = len(w2)\n",
        "    if len(w2) in 0-----> answer = len(w1)\n",
        "\n",
        "if w1[m-1]==w2[n-1]:\n",
        "   ---> answer= edist(w1,w2, m-1,n-1)\n",
        "else:  \n",
        "   ---> answer= 1 + min( edist(insert), edist(delete), edist(replace))  \n",
        "\n",
        "   Operation |  M len(w1)  |  N len(w2)\n",
        "-------------|-------------|------------\n",
        "1.   Insert  |      M      |    N-1\n",
        "             |             |\n",
        "2.   Delete  |     M-1     |     N\n",
        "             |             |\n",
        "3.   Replace |     M-1     |    N-1\n",
        "             |             |\n",
        "\n",
        "```"
      ]
    },
    {
      "cell_type": "code",
      "metadata": {
        "id": "8TBqU-q5DXcn",
        "colab_type": "code",
        "colab": {}
      },
      "source": [
        "def edist(w1,w2,m,n):\n",
        "  if not m:\n",
        "    return n\n",
        "  if not n:\n",
        "    return m\n",
        "  if w1[m-1]==w2[n-1]:\n",
        "    return edist(w1,w2,m-1,n-1)\n",
        "  return 1+min(\n",
        "            edist(w1,w2,m,n-1),    # INSERT\n",
        "            edist(w1,w2,m-1,n),    # DELETE\n",
        "            edist(w1,w2,m-1,n-1)   # REPLACE\n",
        "                )"
      ],
      "execution_count": 3,
      "outputs": []
    },
    {
      "cell_type": "code",
      "metadata": {
        "id": "h_m_nNh-D0I6",
        "colab_type": "code",
        "colab": {
          "base_uri": "https://localhost:8080/",
          "height": 34
        },
        "outputId": "0c76c29f-9635-4b8c-bed5-6fb3d57fea73"
      },
      "source": [
        "w1=\"sunday\"\n",
        "w2=\"saturday\"\n",
        "edist(w1,w2,len(w1),len(w2))"
      ],
      "execution_count": 4,
      "outputs": [
        {
          "output_type": "execute_result",
          "data": {
            "text/plain": [
              "3"
            ]
          },
          "metadata": {
            "tags": []
          },
          "execution_count": 4
        }
      ]
    },
    {
      "cell_type": "code",
      "metadata": {
        "id": "ISLeYHYWEAQE",
        "colab_type": "code",
        "colab": {}
      },
      "source": [
        ""
      ],
      "execution_count": null,
      "outputs": []
    }
  ]
}