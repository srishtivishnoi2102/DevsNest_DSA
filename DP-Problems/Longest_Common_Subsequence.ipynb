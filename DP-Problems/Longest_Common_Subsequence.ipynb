{
  "nbformat": 4,
  "nbformat_minor": 0,
  "metadata": {
    "colab": {
      "name": "Longest Common Subsequence.ipynb",
      "provenance": [],
      "authorship_tag": "ABX9TyMspsB0QM5D6uUkv9Mxj396",
      "include_colab_link": true
    },
    "kernelspec": {
      "name": "python3",
      "display_name": "Python 3"
    }
  },
  "cells": [
    {
      "cell_type": "markdown",
      "metadata": {
        "id": "view-in-github",
        "colab_type": "text"
      },
      "source": [
        "<a href=\"https://colab.research.google.com/github/srishtivishnoi2102/DevsNest_DSA/blob/master/DP-Problems/Longest_Common_Subsequence.ipynb\" target=\"_parent\"><img src=\"https://colab.research.google.com/assets/colab-badge.svg\" alt=\"Open In Colab\"/></a>"
      ]
    },
    {
      "cell_type": "markdown",
      "metadata": {
        "id": "J7MAuB9kc_R7",
        "colab_type": "text"
      },
      "source": [
        "**LCS Problem Statement:**\n",
        " Given two sequences, find the length of longest subsequence present in both of them.\n",
        "\n",
        "  A subsequence is a sequence that appears in the same relative order, but **not necessarily contiguous.**\n",
        "\n",
        "For example, “abc”,  “abg”, “bdf”, “aeg”,  ‘”acefg”, .. etc are subsequences of “abcdefg”."
      ]
    },
    {
      "cell_type": "markdown",
      "metadata": {
        "id": "_bIo6pdMeTpr",
        "colab_type": "text"
      },
      "source": [
        "str1 = \"abcdefgh\"\n",
        "str2 = \"abacdefgh\"\n",
        "\n",
        "\n",
        "As we have to find the length of max LCS, \n",
        "\n",
        "1. Recursive solution\n",
        "\n",
        "```\n",
        "Base condition, \n",
        "if len(str1) ==0 or len(str2)==0:\n",
        "      res=0\n",
        "else if str1[-1] == str2[-1]:\n",
        "      res= 1 + LCS(str1[:-1] , str2[:-1]\n",
        "else:\n",
        "      res= max( LCS(str1] , str2[:-1] ), LCS(str1[:-1] , str2 ))\n",
        "\n",
        "    Time Complexity- 2^N\n",
        "```"
      ]
    },
    {
      "cell_type": "code",
      "metadata": {
        "id": "6NNYw691dAPm",
        "colab_type": "code",
        "colab": {}
      },
      "source": [
        "def lcs(a, b):\n",
        "  if not a or not b:\n",
        "    return 0\n",
        "  if a[0]==b[0]:\n",
        "    return 1+ lcs(a[1:], b[1:])\n",
        "  return max( lcs(a,b[1:]) , lcs(a[1:],b))"
      ],
      "execution_count": null,
      "outputs": []
    },
    {
      "cell_type": "code",
      "metadata": {
        "id": "jLKMsNqBlInW",
        "colab_type": "code",
        "colab": {
          "base_uri": "https://localhost:8080/",
          "height": 34
        },
        "outputId": "0651c25c-302b-4ff2-f992-e97ed24c3b76"
      },
      "source": [
        "str1 = \"abcdefgh\"\n",
        "str2 = \"abacdefgh\"\n",
        "\n",
        "lcs(str1, str2)"
      ],
      "execution_count": null,
      "outputs": [
        {
          "output_type": "execute_result",
          "data": {
            "text/plain": [
              "8"
            ]
          },
          "metadata": {
            "tags": []
          },
          "execution_count": 2
        }
      ]
    },
    {
      "cell_type": "code",
      "metadata": {
        "id": "lEPN2OHAlQKP",
        "colab_type": "code",
        "colab": {}
      },
      "source": [
        ""
      ],
      "execution_count": null,
      "outputs": []
    },
    {
      "cell_type": "markdown",
      "metadata": {
        "id": "eU9DlPBMgGjd",
        "colab_type": "text"
      },
      "source": [
        "**DP Solution** \n",
        "O(m*n)"
      ]
    },
    {
      "cell_type": "code",
      "metadata": {
        "id": "tuScPycxgFnP",
        "colab_type": "code",
        "colab": {}
      },
      "source": [
        "def lcs_dp(str1, str2):\n",
        "  dp=[[0 for s2 in range(1+len(str2))] for s1 in range(1+len(str1)) ]\n",
        "  for m in range(1,len(dp)):\n",
        "    for n in range(1,len(dp[0])):\n",
        "      if str1[m-1]==str2[n-1]:\n",
        "        dp[m][n]= 1+dp[m-1][n-1]\n",
        "      else:\n",
        "        dp[m][n]= max( dp[m][n-1], dp[m-1][n])\n",
        "  for r in dp:\n",
        "    print(r)\n",
        "  return dp[-1][-1]"
      ],
      "execution_count": null,
      "outputs": []
    },
    {
      "cell_type": "code",
      "metadata": {
        "id": "ILyN1TeogeNM",
        "colab_type": "code",
        "colab": {
          "base_uri": "https://localhost:8080/",
          "height": 153
        },
        "outputId": "6958f089-a979-4ccd-b02f-7925d32b9f68"
      },
      "source": [
        "str1 = \"abcdac\"\n",
        "str2 = \"abacdefac\"\n",
        "\n",
        "lcs_dp(str1, str2)"
      ],
      "execution_count": null,
      "outputs": [
        {
          "output_type": "stream",
          "text": [
            "[0, 0, 0, 0, 0, 0, 0, 0, 0, 0]\n",
            "[0, 1, 1, 1, 1, 1, 1, 1, 1, 1]\n",
            "[0, 1, 2, 2, 2, 2, 2, 2, 2, 2]\n",
            "[0, 1, 2, 2, 3, 3, 3, 3, 3, 3]\n",
            "[0, 1, 2, 2, 3, 4, 4, 4, 4, 4]\n",
            "[0, 1, 2, 3, 3, 4, 4, 4, 5, 5]\n",
            "[0, 1, 2, 3, 4, 4, 4, 4, 5, 6]\n"
          ],
          "name": "stdout"
        },
        {
          "output_type": "execute_result",
          "data": {
            "text/plain": [
              "6"
            ]
          },
          "metadata": {
            "tags": []
          },
          "execution_count": 4
        }
      ]
    },
    {
      "cell_type": "markdown",
      "metadata": {
        "id": "ecUMO3VUBqsm",
        "colab_type": "text"
      },
      "source": [
        "**Follow up -1**\n",
        "# Longest Common Substring\n"
      ]
    },
    {
      "cell_type": "code",
      "metadata": {
        "id": "E1RY_vFBhWzS",
        "colab_type": "code",
        "colab": {}
      },
      "source": [
        "def longestcommonsubstring(str1, str2):\n",
        "  dp=[[0 for s2 in range(1+len(str2))] for s1 in range(1+len(str1)) ]\n",
        "  for m in range(1,len(dp)):\n",
        "    for n in range(1,len(dp[0])):\n",
        "      if str1[m-1]==str2[n-1]:\n",
        "        dp[m][n]= 1+dp[m-1][n-1]\n",
        "      else:\n",
        "        dp[m][n]= 0\n",
        "  for r in dp:\n",
        "    print(r)\n",
        "  return dp[-1][-1]"
      ],
      "execution_count": 1,
      "outputs": []
    },
    {
      "cell_type": "code",
      "metadata": {
        "id": "cYOPg7yQB2r4",
        "colab_type": "code",
        "colab": {
          "base_uri": "https://localhost:8080/",
          "height": 187
        },
        "outputId": "67e0f1b5-ec6b-4b7f-b279-bbe52131701d"
      },
      "source": [
        "str1 = \"abcdefac\"\n",
        "str2 = \"abacdefac\"\n",
        "\n",
        "longestcommonsubstring(str1, str2)"
      ],
      "execution_count": 3,
      "outputs": [
        {
          "output_type": "stream",
          "text": [
            "[0, 0, 0, 0, 0, 0, 0, 0, 0, 0]\n",
            "[0, 1, 0, 1, 0, 0, 0, 0, 1, 0]\n",
            "[0, 0, 2, 0, 0, 0, 0, 0, 0, 0]\n",
            "[0, 0, 0, 0, 1, 0, 0, 0, 0, 1]\n",
            "[0, 0, 0, 0, 0, 2, 0, 0, 0, 0]\n",
            "[0, 0, 0, 0, 0, 0, 3, 0, 0, 0]\n",
            "[0, 0, 0, 0, 0, 0, 0, 4, 0, 0]\n",
            "[0, 1, 0, 1, 0, 0, 0, 0, 5, 0]\n",
            "[0, 0, 0, 0, 2, 0, 0, 0, 0, 6]\n"
          ],
          "name": "stdout"
        },
        {
          "output_type": "execute_result",
          "data": {
            "text/plain": [
              "6"
            ]
          },
          "metadata": {
            "tags": []
          },
          "execution_count": 3
        }
      ]
    },
    {
      "cell_type": "markdown",
      "metadata": {
        "id": "mPnMsQqrC2it",
        "colab_type": "text"
      },
      "source": [
        "**Follow up-2**\n",
        "# Print LCS of 2 strings"
      ]
    },
    {
      "cell_type": "code",
      "metadata": {
        "id": "u0oCMkqYB4nt",
        "colab_type": "code",
        "colab": {}
      },
      "source": [
        "def print_lcs(str1, str2):\n",
        "  dp=[[0 for s2 in range(1+len(str2))] for s1 in range(1+len(str1)) ]\n",
        "  for m in range(1,len(dp)):\n",
        "    for n in range(1,len(dp[0])):\n",
        "      if str1[m-1]==str2[n-1]:\n",
        "        dp[m][n]= 1+dp[m-1][n-1]\n",
        "      else:\n",
        "        dp[m][n]= max( dp[m][n-1], dp[m-1][n])\n",
        "  lenlcs=dp[-1][-1]\n",
        "  lcs=\"\"\n",
        "  r=len(str1)\n",
        "  c=len(str2)\n",
        "\n",
        "  while r and c:\n",
        "    if str1[r-1]==str2[c-1]:\n",
        "      lcs=str1[r-1]+lcs\n",
        "      r-=1\n",
        "      c-=1\n",
        "    elif dp[r-1][c]>dp[r][c-1]:\n",
        "      r-=1\n",
        "    else:\n",
        "      c-=1\n",
        "\n",
        "  return lcs"
      ],
      "execution_count": 22,
      "outputs": []
    },
    {
      "cell_type": "code",
      "metadata": {
        "id": "_ykaCy36NjZs",
        "colab_type": "code",
        "colab": {
          "base_uri": "https://localhost:8080/",
          "height": 35
        },
        "outputId": "35374f38-ecb8-4a8e-d86e-b29b7d700188"
      },
      "source": [
        "str1 = \"abcdesdfhjkl;'fac\"\n",
        "str2 = \"abacdehac\"\n",
        "\n",
        "print_lcs(str1, str2)"
      ],
      "execution_count": 23,
      "outputs": [
        {
          "output_type": "execute_result",
          "data": {
            "application/vnd.google.colaboratory.intrinsic+json": {
              "type": "string"
            },
            "text/plain": [
              "'abcdehac'"
            ]
          },
          "metadata": {
            "tags": []
          },
          "execution_count": 23
        }
      ]
    },
    {
      "cell_type": "code",
      "metadata": {
        "id": "lUtzCYawNsac",
        "colab_type": "code",
        "colab": {}
      },
      "source": [
        ""
      ],
      "execution_count": null,
      "outputs": []
    }
  ]
}