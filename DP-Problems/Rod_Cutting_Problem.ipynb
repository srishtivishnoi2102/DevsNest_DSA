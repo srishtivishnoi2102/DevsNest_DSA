{
  "nbformat": 4,
  "nbformat_minor": 0,
  "metadata": {
    "colab": {
      "name": "Rod Cutting Problem.ipynb",
      "provenance": [],
      "authorship_tag": "ABX9TyO/+eigWmw0qK93TVUJ2Q0k",
      "include_colab_link": true
    },
    "kernelspec": {
      "name": "python3",
      "display_name": "Python 3"
    }
  },
  "cells": [
    {
      "cell_type": "markdown",
      "metadata": {
        "id": "view-in-github",
        "colab_type": "text"
      },
      "source": [
        "<a href=\"https://colab.research.google.com/github/srishtivishnoi2102/DevsNest_DSA/blob/master/Rod_Cutting_Problem.ipynb\" target=\"_parent\"><img src=\"https://colab.research.google.com/assets/colab-badge.svg\" alt=\"Open In Colab\"/></a>"
      ]
    },
    {
      "cell_type": "markdown",
      "metadata": {
        "id": "48j3ni0RM1Z3",
        "colab_type": "text"
      },
      "source": [
        "Given a rod of length n inches and an array of prices that contains prices of all pieces of size smaller than n. Determine the maximum value obtainable by cutting up the rod and selling the pieces. \n",
        "```\n",
        "For example, if length of the rod is 8 and the values of different pieces are given as following, then the maximum obtainable value is 22 (by cutting in two pieces of lengths 2 and 6)\n",
        "\n",
        "length   | 1   2   3   4   5   6   7   8  \n",
        "--------------------------------------------\n",
        "price    | 1   5   8   9  10  17  17  20\n",
        "\n",
        "\n",
        "\n",
        "And if the prices are as following, then the maximum obtainable value is 24 (by cutting in eight pieces of length 1)\n",
        "\n",
        "length   | 1   2   3   4   5   6   7   8  \n",
        "--------------------------------------------\n",
        "price    | 3   5   8   9  10  17  17  20\n",
        "```\n",
        "\n",
        "```\n",
        "we have to divide the N length of rod into pieces of 1<=size<=N, \n",
        "and we are given the profit we will get for piece of particular size in price array. \n",
        "We have to maximise the profit, and we can either select a piece of given size or discard it. \n",
        "We can use multiple pieces of same size also. So this is a variation of unbounded knapsack.\n",
        "```"
      ]
    },
    {
      "cell_type": "markdown",
      "metadata": {
        "id": "9EqlZ7zczBkn",
        "colab_type": "text"
      },
      "source": [
        ""
      ]
    },
    {
      "cell_type": "code",
      "metadata": {
        "id": "dqmGuNktzB7J",
        "colab_type": "code",
        "colab": {}
      },
      "source": [
        "def rodcutting(prices):\n",
        "  n=len(prices)         # prices[i] gives us the price associated with piece of size i+1\n",
        "\n",
        "  dp=[[0 for p in range(1+n)] for r in range(n+1)]\n",
        "\n",
        "  for r in range(1,len(dp)):\n",
        "    for s in range(1,len(dp[0])):\n",
        "      if s<r:\n",
        "        dp[r][s]= dp[r-1][s]\n",
        "      else:\n",
        "        dp[r][s]=max( dp[r-1][s], prices[r-1] + dp[r][s-r])\n",
        "  print(\"MAX PROFIT:: \", dp[-1][-1])"
      ],
      "execution_count": 1,
      "outputs": []
    },
    {
      "cell_type": "code",
      "metadata": {
        "id": "g3j2zMHADSvF",
        "colab_type": "code",
        "colab": {
          "base_uri": "https://localhost:8080/",
          "height": 34
        },
        "outputId": "db1011dc-e39a-4a9f-ca4e-dba05da637f9"
      },
      "source": [
        "prices= [3,8,8,20,10,17,17,20]\n",
        "rodcutting(prices)"
      ],
      "execution_count": 5,
      "outputs": [
        {
          "output_type": "stream",
          "text": [
            "MAX PROFIT::  40\n"
          ],
          "name": "stdout"
        }
      ]
    },
    {
      "cell_type": "code",
      "metadata": {
        "id": "_TwhOMLBDbeP",
        "colab_type": "code",
        "colab": {}
      },
      "source": [
        ""
      ],
      "execution_count": null,
      "outputs": []
    }
  ]
}
