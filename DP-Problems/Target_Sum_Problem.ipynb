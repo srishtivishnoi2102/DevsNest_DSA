{
  "nbformat": 4,
  "nbformat_minor": 0,
  "metadata": {
    "colab": {
      "name": "Target Sum Problem.ipynb",
      "provenance": [],
      "authorship_tag": "ABX9TyNVI1OaUWLMgVYcNyF6jTqY",
      "include_colab_link": true
    },
    "kernelspec": {
      "name": "python3",
      "display_name": "Python 3"
    }
  },
  "cells": [
    {
      "cell_type": "markdown",
      "metadata": {
        "id": "view-in-github",
        "colab_type": "text"
      },
      "source": [
        "<a href=\"https://colab.research.google.com/github/srishtivishnoi2102/DevsNest_DSA/blob/master/Target_Sum_Problem.ipynb\" target=\"_parent\"><img src=\"https://colab.research.google.com/assets/colab-badge.svg\" alt=\"Open In Colab\"/></a>"
      ]
    },
    {
      "cell_type": "code",
      "metadata": {
        "id": "yU4K9qNSffav",
        "colab_type": "code",
        "colab": {}
      },
      "source": [
        ""
      ],
      "execution_count": null,
      "outputs": []
    },
    {
      "cell_type": "markdown",
      "metadata": {
        "id": "xQTUmvByfg6-",
        "colab_type": "text"
      },
      "source": [
        "\n",
        "Given a list of non-negative integers, a1, a2, ..., an, and a target, S. Now you have 2 symbols + and -. For each integer, you should choose one from + and - as its new symbol.\n",
        "\n",
        "Find out how many ways to assign symbols to make sum of integers equal to target S.\n",
        "\n",
        "Example 1:\n",
        "Input: nums is [1, 1, 1, 1, 1], S is 3. \n",
        "Output: 5\n",
        "Explanation: \n",
        "\n",
        "\n",
        "```\n",
        "\n",
        "-1+1+1+1+1 = 3\n",
        "+1-1+1+1+1 = 3\n",
        "+1+1-1+1+1 = 3\n",
        "+1+1+1-1+1 = 3\n",
        "+1+1+1+1-1 = 3\n",
        "[link to the problem] (https://leetcode.com/problems/target-sum/)\n",
        "```\n",
        "\n",
        "\n",
        "There are 5 ways to assign symbols to make the sum of nums be target 3."
      ]
    },
    {
      "cell_type": "markdown",
      "metadata": {
        "id": "wXpTbb3flbWM",
        "colab_type": "text"
      },
      "source": [
        "## **Recursive Solution**"
      ]
    },
    {
      "cell_type": "code",
      "metadata": {
        "id": "RviifFV3fkMx",
        "colab_type": "code",
        "colab": {}
      },
      "source": [
        "def helper(self, nums, i, S, tsum):            \n",
        "  if i==len(nums):\n",
        "    if S==tsum:\n",
        "      self.count+=1\n",
        "        return            \n",
        "    else:\n",
        "      self.helper(nums, i+1, S, tsum+nums[i])\n",
        "      self.helper(nums, i+1, S, tsum-nums[i])\n",
        "\n",
        "def findTargetSumWays(self, nums: List[int], S: int) -> int:\n",
        "  self.count=0\n",
        "  self.helper(nums, 0, S,0)\n",
        "  return self.count"
      ],
      "execution_count": null,
      "outputs": []
    },
    {
      "cell_type": "markdown",
      "metadata": {
        "id": "VAMgR9dqxPtT",
        "colab_type": "text"
      },
      "source": [
        ""
      ]
    },
    {
      "cell_type": "markdown",
      "metadata": {
        "id": "E75rC9igxPk6",
        "colab_type": "text"
      },
      "source": [
        "In array arr, For each integer, we can either choose +ve or -ve sign to use wid it such that the sum become k\n",
        "```\n",
        "+pos1 +pos2 +pos3 -neg1 -neg2 -neg3  = k \n",
        "+(pos1 +pos2 +pos3) -(neg1 + neg2 + neg3)  = k\n",
        "+(sum of element with +ve sign)  -(sum of element with -ve sign)  =k\n",
        "\n",
        "sum of +ve element part - sum of -ve element part = k\n",
        "\n",
        "This problem is now similar to counting possible partitions of array into 2 subset with diff in sum =k\n",
        "```\n",
        "\n",
        "\n",
        "\n",
        "```\n",
        "pos_sum + neg_sum = Sum(arr)\n",
        "pos_sum - neg_sum = k\n",
        "______________________________\n",
        "pos_sum=[sum(arr)+k] / 2\n",
        "and\n",
        "neg_sum=[sum(arr)-k] / 2\n",
        "\n",
        "```\n",
        "\n"
      ]
    },
    {
      "cell_type": "code",
      "metadata": {
        "id": "16hp2tZ9yed9",
        "colab_type": "code",
        "colab": {}
      },
      "source": [
        "def findTargetSumWays( nums, S):\n",
        "  if not nums:           #if nums has no element\n",
        "    return 0\n",
        "\n",
        "  if len(nums)==1:       #if nums has single element\n",
        "    return 1 if nums[0]==max(S,-S) else 0\n",
        "\n",
        "  cnt0=nums.count(0)     # counting number of zeroes separately, zero can go to both positive and negative set\n",
        "\n",
        "  if sum(nums)<S or (sum(nums)+S)%2:        # if S is greater than sum of arr OR is sum(arr)+S is odd, then no subset is possible \n",
        "    return 0\n",
        "\n",
        "  neg_sum= (sum(nums)-S)//2              # sum of subset of negative sign elements\n",
        "        \n",
        "  dp=[[0 for s in range(1+neg_sum)] for r in range(1+len(nums))]\n",
        "  for r in range(len(dp)):\n",
        "    dp[r][0]=1\n",
        "    for s in range(1,len(dp[0])):\n",
        "      if nums[r-1]==0 or s<nums[r-1]:\n",
        "        dp[r][s]=dp[r-1][s]\n",
        "      else:\n",
        "        dp[r][s]=dp[r-1][s] + dp[r-1][s-nums[r-1]]\n",
        "        \n",
        "  return 2**cnt0 *dp[-1][-1]            # 2**cnt0 as we can consider both + and - sign with 0\n"
      ],
      "execution_count": 1,
      "outputs": []
    },
    {
      "cell_type": "code",
      "metadata": {
        "id": "CY8ieoYj8jTP",
        "colab_type": "code",
        "colab": {
          "base_uri": "https://localhost:8080/",
          "height": 34
        },
        "outputId": "481a2902-a07b-4f8e-def2-55afdb9bc8a6"
      },
      "source": [
        "arr= [1,1,2,0,0,3]\n",
        "S=3\n",
        "findTargetSumWays(arr, S)"
      ],
      "execution_count": 2,
      "outputs": [
        {
          "output_type": "execute_result",
          "data": {
            "text/plain": [
              "8"
            ]
          },
          "metadata": {
            "tags": []
          },
          "execution_count": 2
        }
      ]
    },
    {
      "cell_type": "code",
      "metadata": {
        "id": "BezpbFt58tKy",
        "colab_type": "code",
        "colab": {}
      },
      "source": [
        ""
      ],
      "execution_count": null,
      "outputs": []
    }
  ]
}
