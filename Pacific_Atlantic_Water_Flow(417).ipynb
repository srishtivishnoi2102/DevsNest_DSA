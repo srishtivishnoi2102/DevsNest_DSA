{
  "nbformat": 4,
  "nbformat_minor": 0,
  "metadata": {
    "colab": {
      "name": " Pacific Atlantic Water Flow(417).ipynb",
      "provenance": [],
      "authorship_tag": "ABX9TyMDhvB8sGdaUdsHs68jgGqf",
      "include_colab_link": true
    },
    "kernelspec": {
      "name": "python3",
      "display_name": "Python 3"
    }
  },
  "cells": [
    {
      "cell_type": "markdown",
      "metadata": {
        "id": "view-in-github",
        "colab_type": "text"
      },
      "source": [
        "<a href=\"https://colab.research.google.com/github/srishtivishnoi2102/DevsNest_DSA/blob/master/Pacific_Atlantic_Water_Flow(417).ipynb\" target=\"_parent\"><img src=\"https://colab.research.google.com/assets/colab-badge.svg\" alt=\"Open In Colab\"/></a>"
      ]
    },
    {
      "cell_type": "markdown",
      "metadata": {
        "id": "QIlXofhPU62T",
        "colab_type": "text"
      },
      "source": [
        "Given an m x n matrix of non-negative integers representing the height of each unit cell in a continent, the \"Pacific ocean\" touches the left and top edges of the matrix and the \"Atlantic ocean\" touches the right and bottom edges.\n",
        "\n",
        "Water can only flow in four directions (up, down, left, or right) from a cell to another one with height equal or lower.\n",
        "\n",
        "Find the list of grid coordinates where water can flow to both the Pacific and Atlantic ocean.\n",
        "\n",
        "Note:\n",
        "\n",
        "The order of returned grid coordinates does not matter.\n",
        "Both m and n are less than 150.\n",
        " \n",
        "\n",
        "Example:\n",
        "\n",
        "Given the following 5x5 matrix:\n",
        "\n",
        " \n",
        "\n",
        "    Pacific~   ~   ~   ~  ~  ~\n",
        "       ~  1   2   2   3  (5) *\n",
        "       ~  3   2   3  (4) (4) *\n",
        "       ~  2   4  (5)  3   1  *\n",
        "       ~ (6) (7)  1   4   5  *\n",
        "       ~ (5)  1   1   2   4  *\n",
        "       *   *   *   *   *   * Atlantic\n",
        "\n",
        "a set of shops\n",
        "<br>\n",
        "a set of items M wants to get\n",
        "\n",
        "Return:\n",
        "\n",
        "[[0, 4], [1, 3], [1, 4], [2, 2], [3, 0], [3, 1], [4, 0]] (positions with parentheses in above matrix)."
      ]
    },
    {
      "cell_type": "code",
      "metadata": {
        "id": "eId_RZa9A673",
        "colab_type": "code",
        "colab": {}
      },
      "source": [
        "def traverse_ocean(r,c, grid_map, prev_val, ocean):\n",
        "        if r<0 or r>len(grid_map)-1 or c<0 or c>len(grid_map[0])-1:\n",
        "            return\n",
        "        if grid_map[r][c]<prev_val:\n",
        "            return\n",
        "        if ocean[r][c]:\n",
        "            return\n",
        "        \n",
        "        ocean[r][c]=True\n",
        "        \n",
        "        traverse_ocean(r, c+1, grid_map, grid_map[r][c], ocean)\n",
        "        traverse_ocean(r, c-1, grid_map, grid_map[r][c], ocean)\n",
        "        traverse_ocean(r+1, c, grid_map, grid_map[r][c], ocean)\n",
        "        traverse_ocean(r-1, c, grid_map, grid_map[r][c], ocean)\n",
        "    \n",
        "                \n",
        "def pacificAtlantic(grid_map):\n",
        "        if len(grid_map)==0:\n",
        "            return []\n",
        "        pacific= [[False for j in range(len(grid_map[0]))]for i in range(len(grid_map))] \n",
        "        atlantic= [[False for j in range(len(grid_map[0]))]for i in range(len(grid_map))] \n",
        "        for r in range(len(grid_map)):\n",
        "            traverse_ocean(r=r,c=0,grid_map=grid_map,prev_val= 0 , ocean=pacific)     #leftmost side pacific\n",
        "            traverse_ocean(r=r,c=len(grid_map[0])-1,grid_map=grid_map,prev_val= 0 , ocean=atlantic)  # rightmost side atlantic   \n",
        "        \n",
        "        \n",
        "        for c in range(len(grid_map[0])):\n",
        "            traverse_ocean(r=0,c=c,grid_map=grid_map,prev_val= 0 , ocean=pacific)     #topmost side pacific\n",
        "            traverse_ocean(r=len(grid_map)-1,c=c,grid_map=grid_map,prev_val= 0 , ocean=atlantic)  # bottom most side atlantic   \n",
        "\n",
        "        res=[]\n",
        "        # print(pacific)\n",
        "        # print(atlantic)\n",
        "        for r in range(len(grid_map)):\n",
        "            for c in range(len(grid_map[0])):\n",
        "                if pacific[r][c] and atlantic[r][c]:\n",
        "                    res.append([r,c])\n",
        "        return res"
      ],
      "execution_count": 3,
      "outputs": []
    },
    {
      "cell_type": "code",
      "metadata": {
        "id": "9lxrPmx-WHh3",
        "colab_type": "code",
        "colab": {
          "base_uri": "https://localhost:8080/",
          "height": 33
        },
        "outputId": "de0e58ec-7ac8-4fde-ba4a-ed0046b4910c"
      },
      "source": [
        "grid_map= [[1,2,2,3,5],[3,2,3,4,4],[2,4,5,3,1],[6,7,1,4,5],[5,1,1,2,4]]\n",
        "\n",
        "pacificAtlantic(grid_map)"
      ],
      "execution_count": 4,
      "outputs": [
        {
          "output_type": "execute_result",
          "data": {
            "text/plain": [
              "[[0, 4], [1, 3], [1, 4], [2, 2], [3, 0], [3, 1], [4, 0]]"
            ]
          },
          "metadata": {
            "tags": []
          },
          "execution_count": 4
        }
      ]
    },
    {
      "cell_type": "code",
      "metadata": {
        "id": "SNd4pU-_WqDc",
        "colab_type": "code",
        "colab": {}
      },
      "source": [
        ""
      ],
      "execution_count": null,
      "outputs": []
    }
  ]
}