{
  "nbformat": 4,
  "nbformat_minor": 0,
  "metadata": {
    "colab": {
      "name": "Count of Subset Sum.ipynb",
      "provenance": [],
      "authorship_tag": "ABX9TyM4XaYfzrgLWEqwxx//WpXe",
      "include_colab_link": true
    },
    "kernelspec": {
      "name": "python3",
      "display_name": "Python 3"
    }
  },
  "cells": [
    {
      "cell_type": "markdown",
      "metadata": {
        "id": "view-in-github",
        "colab_type": "text"
      },
      "source": [
        "<a href=\"https://colab.research.google.com/github/srishtivishnoi2102/DevsNest_DSA/blob/master/Count_of_Subset_Sum.ipynb\" target=\"_parent\"><img src=\"https://colab.research.google.com/assets/colab-badge.svg\" alt=\"Open In Colab\"/></a>"
      ]
    },
    {
      "cell_type": "code",
      "metadata": {
        "id": "7jA2PiWqWfde",
        "colab_type": "code",
        "colab": {}
      },
      "source": [
        "def subset_sum(arr, sum, ci,counter):    #recursion\n",
        "  if ci==len(arr):\n",
        "    if sum==0:\n",
        "      counter=counter+1\n",
        "    return counter\n",
        "  else:\n",
        "    if sum<arr[ci]:\n",
        "      counter= subset_sum(arr,sum,ci+1,counter)\n",
        "    else:\n",
        "      counter= subset_sum(arr,sum,ci+1,counter)\n",
        "      counter= subset_sum(arr,sum-arr[ci],ci+1, counter) \n",
        "    return counter"
      ],
      "execution_count": 29,
      "outputs": []
    },
    {
      "cell_type": "code",
      "metadata": {
        "id": "yMRBCF9wW7-D",
        "colab_type": "code",
        "colab": {
          "base_uri": "https://localhost:8080/",
          "height": 34
        },
        "outputId": "dc7aec7a-d0af-4831-9aa2-ef48de346405"
      },
      "source": [
        "arr=[2, 3,5,10,7,6,8]\n",
        "sum=10\n",
        "subset_sum(arr,sum,0,0)"
      ],
      "execution_count": 30,
      "outputs": [
        {
          "output_type": "execute_result",
          "data": {
            "text/plain": [
              "4"
            ]
          },
          "metadata": {
            "tags": []
          },
          "execution_count": 30
        }
      ]
    },
    {
      "cell_type": "code",
      "metadata": {
        "id": "Wg0HQVl2W8zg",
        "colab_type": "code",
        "colab": {}
      },
      "source": [
        "def count_subset_sum(arr,sum):\n",
        "  dp= [[0 for s in range(1+sum)] for _ in range(1+len(arr))]\n",
        "  for n in range(len(dp)):\n",
        "    dp[n][0]=1\n",
        "    for s in range(1,len(dp[0])):\n",
        "      if s<arr[n-1]:\n",
        "        dp[n][s]=dp[n-1][s]                          #excluding\n",
        "      else:\n",
        "        dp[n][s]= dp[n-1][s] + dp[n-1][s-arr[n-1]]   #including +excluding\n",
        "    print(dp[n])\n",
        "  return dp[-1][-1]"
      ],
      "execution_count": 39,
      "outputs": []
    },
    {
      "cell_type": "code",
      "metadata": {
        "id": "v2a1Aw2F2-GL",
        "colab_type": "code",
        "colab": {
          "base_uri": "https://localhost:8080/",
          "height": 136
        },
        "outputId": "04642d66-4f65-480d-de18-e09f7e720026"
      },
      "source": [
        "arr=[1 , 2 , 3 , 5 , 7]\n",
        "sum=7\n",
        "count_subset_sum(arr,sum)\n",
        "\n",
        "# s-->  [0, 1, 2, 3, 4, 5, 6, 7]\n",
        "\n",
        "# 0->>  [1, 0, 0, 0, 0, 0, 0, 0]\n",
        "# 1->>  [1, 1, 0, 0, 0, 0, 0, 0]\n",
        "# 2->>  [1, 1, 1, 1, 0, 0, 0, 0]\n",
        "# 3->>  [1, 1, 1, 2, 1, 1, 1, 0]\n",
        "# 5->>  [1, 1, 1, 2, 1, 2, 2, 1]\n",
        "# 7->>  [1, 1, 1, 2, 1, 2, 2, 2]"
      ],
      "execution_count": 43,
      "outputs": [
        {
          "output_type": "stream",
          "text": [
            "[1, 0, 0, 0, 0, 0, 0, 0]\n",
            "[1, 1, 0, 0, 0, 0, 0, 0]\n",
            "[1, 1, 1, 1, 0, 0, 0, 0]\n",
            "[1, 1, 1, 2, 1, 1, 1, 0]\n",
            "[1, 1, 1, 2, 1, 2, 2, 1]\n",
            "[1, 1, 1, 2, 1, 2, 2, 2]\n"
          ],
          "name": "stdout"
        },
        {
          "output_type": "execute_result",
          "data": {
            "text/plain": [
              "2"
            ]
          },
          "metadata": {
            "tags": []
          },
          "execution_count": 43
        }
      ]
    },
    {
      "cell_type": "code",
      "metadata": {
        "id": "uL1y6C_93DcV",
        "colab_type": "code",
        "colab": {}
      },
      "source": [
        ""
      ],
      "execution_count": null,
      "outputs": []
    }
  ]
}