{
  "nbformat": 4,
  "nbformat_minor": 0,
  "metadata": {
    "colab": {
      "name": "Cycle Detection.ipynb",
      "provenance": [],
      "authorship_tag": "ABX9TyNxb5+RZct+iThgQxeTN2Ff",
      "include_colab_link": true
    },
    "kernelspec": {
      "name": "python3",
      "display_name": "Python 3"
    }
  },
  "cells": [
    {
      "cell_type": "markdown",
      "metadata": {
        "id": "view-in-github",
        "colab_type": "text"
      },
      "source": [
        "<a href=\"https://colab.research.google.com/github/srishtivishnoi2102/DevsNest_DSA/blob/master/Graph/Cycle_Detection.ipynb\" target=\"_parent\"><img src=\"https://colab.research.google.com/assets/colab-badge.svg\" alt=\"Open In Colab\"/></a>"
      ]
    },
    {
      "cell_type": "code",
      "metadata": {
        "id": "jv6MK1G3DILO",
        "colab_type": "code",
        "colab": {}
      },
      "source": [
        "def build_undirected(vertices, edges):\n",
        "  graph=dict(zip(vertices, [ [] for _ in range(len(vertices)) ]))\n",
        "  for u,v in edges:\n",
        "    graph[u].append(v)\n",
        "    graph[v].append(u)\n",
        "  return graph\n",
        "def build_directed(vertices, edges):\n",
        "  graph=dict(zip(vertices, [ [] for _ in range(len(vertices)) ]))\n",
        "  for u,v in edges:\n",
        "    graph[u].append(v)\n",
        "  return graph"
      ],
      "execution_count": 3,
      "outputs": []
    },
    {
      "cell_type": "code",
      "metadata": {
        "id": "RCUtK4RHC0Dn",
        "colab_type": "code",
        "colab": {}
      },
      "source": [
        ""
      ],
      "execution_count": 4,
      "outputs": []
    },
    {
      "cell_type": "markdown",
      "metadata": {
        "id": "YgQ0sW0TCeBe",
        "colab_type": "text"
      },
      "source": [
        "# Cycle Detection using DFS in Undirected Graph\n",
        "### if neighbour of current is already visited and that neighbour is not the parent of current, then there is cycle return current,neighbour,parents,dfs_traversal,\"Graph is cyclic\"\n"
      ]
    },
    {
      "cell_type": "code",
      "metadata": {
        "id": "jkQVujSaCGkO",
        "colab_type": "code",
        "colab": {}
      },
      "source": [
        "def acyclic_dfs(graph,starting_node):\n",
        "  stack=[]\n",
        "  visited=[False]*len(graph)\n",
        "  visited[starting_node]=True\n",
        "  stack.append(starting_node)\n",
        "  current=None\n",
        "  parents={starting_node:None}\n",
        "  while len(stack)>0:\n",
        "    current=stack.pop()\n",
        "    for neighbour in graph[current]:\n",
        "      if visited[neighbour] and neighbour!=parents[current]:  \n",
        "        print(\"Graph is cyclic\")\n",
        "        return \n",
        "      if not visited[neighbour]:\n",
        "        stack.append(neighbour)\n",
        "        parents[neighbour]=current\n",
        "      visited[neighbour]=True\n",
        " \n",
        "  return \"Graph is acyclic\"\n"
      ],
      "execution_count": 23,
      "outputs": []
    },
    {
      "cell_type": "code",
      "metadata": {
        "id": "HIqZRoSHCl2L",
        "colab_type": "code",
        "colab": {
          "base_uri": "https://localhost:8080/",
          "height": 34
        },
        "outputId": "58f9ab4d-131f-469d-a339-da283190ea64"
      },
      "source": [
        "vertices=[0,1,2,3]\n",
        "edges=[[0,1],[1,2],[2,3],[3,1]]\n",
        "g_ud=build_undirected(vertices,edges)\n",
        "acyclic_dfs(g_ud,0)"
      ],
      "execution_count": 25,
      "outputs": [
        {
          "output_type": "stream",
          "text": [
            "Graph is cyclic\n"
          ],
          "name": "stdout"
        }
      ]
    },
    {
      "cell_type": "markdown",
      "metadata": {
        "id": "GbpGPam9HmzP",
        "colab_type": "text"
      },
      "source": [
        "# Cycle Detection using BFS in Undirected Graph\n",
        "### if neighbour of current is already visited and in processing then there is cycle.\n",
        "\n",
        "\n"
      ]
    },
    {
      "cell_type": "code",
      "metadata": {
        "id": "IC24uK0WDmWv",
        "colab_type": "code",
        "colab": {}
      },
      "source": [
        "def acyclic_bfs(graph):\n",
        "  visited=[0 for v in graph.keys()]\n",
        "  for v in graph.keys():\n",
        "    if visited[v]==0:\n",
        "      q=[v]\n",
        "      while q:\n",
        "        cv=q.pop(0)\n",
        "        visited[cv]=1\n",
        "        for nb in graph[cv]:\n",
        "          if visited[nb]==0:   #visited[nb]==0 means node nb is unvisited\n",
        "            q.append(nb)\n",
        "            visited[nb]=1     #visited[nb]==1 means node nb is visited and in processing\n",
        "          elif visited[nb]==1:\n",
        "            return \"Cyclic\"\n",
        "        visited[cv]=2   #visited[nb]==2 means node nb is visited and processed\n",
        "  return \"Acyclic\""
      ],
      "execution_count": 27,
      "outputs": []
    },
    {
      "cell_type": "code",
      "metadata": {
        "id": "JYi6eFb9HPCM",
        "colab_type": "code",
        "colab": {
          "base_uri": "https://localhost:8080/",
          "height": 35
        },
        "outputId": "cb1c9039-3846-4356-972e-c9295d7aa4f4"
      },
      "source": [
        "acyclic_bfs(g_ud)\n"
      ],
      "execution_count": 26,
      "outputs": [
        {
          "output_type": "execute_result",
          "data": {
            "application/vnd.google.colaboratory.intrinsic": {
              "type": "string"
            },
            "text/plain": [
              "'Cyclic'"
            ]
          },
          "metadata": {
            "tags": []
          },
          "execution_count": 26
        }
      ]
    },
    {
      "cell_type": "code",
      "metadata": {
        "id": "DR5tsQw6HSIE",
        "colab_type": "code",
        "colab": {}
      },
      "source": [
        ""
      ],
      "execution_count": null,
      "outputs": []
    }
  ]
}