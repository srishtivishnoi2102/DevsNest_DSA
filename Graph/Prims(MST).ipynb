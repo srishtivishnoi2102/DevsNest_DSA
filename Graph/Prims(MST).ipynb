{
  "nbformat": 4,
  "nbformat_minor": 0,
  "metadata": {
    "colab": {
      "name": "Prims(MST).ipynb",
      "provenance": [],
      "authorship_tag": "ABX9TyONpJ3kEYwaYu9rpjIZZQ+g",
      "include_colab_link": true
    },
    "kernelspec": {
      "name": "python3",
      "display_name": "Python 3"
    }
  },
  "cells": [
    {
      "cell_type": "markdown",
      "metadata": {
        "id": "view-in-github",
        "colab_type": "text"
      },
      "source": [
        "<a href=\"https://colab.research.google.com/github/srishtivishnoi2102/DevsNest_DSA/blob/master/Graph/Prims(MST).ipynb\" target=\"_parent\"><img src=\"https://colab.research.google.com/assets/colab-badge.svg\" alt=\"Open In Colab\"/></a>"
      ]
    },
    {
      "cell_type": "code",
      "metadata": {
        "id": "QPbByXoyHEx6",
        "colab_type": "code",
        "colab": {}
      },
      "source": [
        "edges= [\n",
        "        ['a','b',6],\n",
        "        ['a','c',1], \n",
        "        ['a','d',5], \n",
        "        ['b','c',5],\n",
        "        ['b','e',3],\n",
        "        ['c','d',5],\n",
        "        ['e','c',6],\n",
        "        ['d','f',2],\n",
        "        ['c','f',4],\n",
        "        ['e','f',6],\n",
        "          ]"
      ],
      "execution_count": 1,
      "outputs": []
    },
    {
      "cell_type": "code",
      "metadata": {
        "id": "n-wSXYTqPtTK",
        "colab_type": "code",
        "colab": {}
      },
      "source": [
        "import heapq \n"
      ],
      "execution_count": 17,
      "outputs": []
    },
    {
      "cell_type": "code",
      "metadata": {
        "id": "MLnNT3OHH3PQ",
        "colab_type": "code",
        "colab": {
          "base_uri": "https://localhost:8080/",
          "height": 394
        },
        "outputId": "0b308c33-8246-4828-c4fe-2c332da33da9"
      },
      "source": [
        "def prims(edges):\n",
        "\n",
        "  U=set(map(lambda x:x[0],edges))\n",
        "  V=set(map(lambda x:x[1],edges))\n",
        "  vertices=list(U.union(V)  )\n",
        "  g=dict(zip(vertices, [ [] for v in vertices]))\n",
        "  for u,v,w in edges:\n",
        "    g[u].append([v,w])\n",
        "    g[v].append([u,w])\n",
        "  print(\"Graph::\",g,'\\n')\n",
        "  v_mst=set()\n",
        "  e_mst=[]\n",
        "  pq=[]\n",
        "  u=vertices[0]\n",
        "  v_mst.add(u)\n",
        "  for v,w in g[u]:\n",
        "    pq.append([w,v,u])\n",
        "  \n",
        "  while len(v_mst)!=len(vertices):\n",
        "    heapq.heapify(pq)\n",
        "    print(\"PQ::\",pq)\n",
        "    w,v,u=heapq.heappop(pq)\n",
        "    print(\"Minimum weight Edges::[w,v,u]\",w,v,u)\n",
        "    if v not in v_mst:\n",
        "      v_mst.add(v)\n",
        "      e_mst.append([u,v,w])\n",
        "      for node, weight in g[v]:\n",
        "        if node not in v_mst:\n",
        "          pq.append([weight,node,v])\n",
        "    print(\"mst edges::\",e_mst,\"   mst vertices::\",v_mst)\n",
        "    \n",
        "\n",
        "  print(e_mst)\n",
        "  \n",
        "prims(edges)\n",
        "\n",
        "\n"
      ],
      "execution_count": 26,
      "outputs": [
        {
          "output_type": "stream",
          "text": [
            "Graph:: {'f': [['d', 2], ['c', 4], ['e', 6]], 'a': [['b', 6], ['c', 1], ['d', 5]], 'd': [['a', 5], ['c', 5], ['f', 2]], 'e': [['b', 3], ['c', 6], ['f', 6]], 'c': [['a', 1], ['b', 5], ['d', 5], ['e', 6], ['f', 4]], 'b': [['a', 6], ['c', 5], ['e', 3]]} \n",
            "\n",
            "PQ:: [[2, 'd', 'f'], [4, 'c', 'f'], [6, 'e', 'f']]\n",
            "Minimum weight Edges::[w,v,u] 2 d f\n",
            "mst edges:: [['f', 'd', 2]]    mst vertices:: {'d', 'f'}\n",
            "PQ:: [[4, 'c', 'f'], [5, 'c', 'd'], [5, 'a', 'd'], [6, 'e', 'f']]\n",
            "Minimum weight Edges::[w,v,u] 4 c f\n",
            "mst edges:: [['f', 'd', 2], ['f', 'c', 4]]    mst vertices:: {'d', 'f', 'c'}\n",
            "PQ:: [[1, 'a', 'c'], [5, 'a', 'd'], [6, 'e', 'c'], [5, 'c', 'd'], [5, 'b', 'c'], [6, 'e', 'f']]\n",
            "Minimum weight Edges::[w,v,u] 1 a c\n",
            "mst edges:: [['f', 'd', 2], ['f', 'c', 4], ['c', 'a', 1]]    mst vertices:: {'d', 'a', 'f', 'c'}\n",
            "PQ:: [[5, 'a', 'd'], [5, 'b', 'c'], [6, 'b', 'a'], [5, 'c', 'd'], [6, 'e', 'f'], [6, 'e', 'c']]\n",
            "Minimum weight Edges::[w,v,u] 5 a d\n",
            "mst edges:: [['f', 'd', 2], ['f', 'c', 4], ['c', 'a', 1]]    mst vertices:: {'d', 'a', 'f', 'c'}\n",
            "PQ:: [[5, 'b', 'c'], [5, 'c', 'd'], [6, 'b', 'a'], [6, 'e', 'c'], [6, 'e', 'f']]\n",
            "Minimum weight Edges::[w,v,u] 5 b c\n",
            "mst edges:: [['f', 'd', 2], ['f', 'c', 4], ['c', 'a', 1], ['c', 'b', 5]]    mst vertices:: {'f', 'a', 'd', 'c', 'b'}\n",
            "PQ:: [[3, 'e', 'b'], [5, 'c', 'd'], [6, 'b', 'a'], [6, 'e', 'f'], [6, 'e', 'c']]\n",
            "Minimum weight Edges::[w,v,u] 3 e b\n",
            "mst edges:: [['f', 'd', 2], ['f', 'c', 4], ['c', 'a', 1], ['c', 'b', 5], ['b', 'e', 3]]    mst vertices:: {'f', 'a', 'd', 'e', 'c', 'b'}\n",
            "[['f', 'd', 2], ['f', 'c', 4], ['c', 'a', 1], ['c', 'b', 5], ['b', 'e', 3]]\n"
          ],
          "name": "stdout"
        }
      ]
    },
    {
      "cell_type": "code",
      "metadata": {
        "id": "FGwTqK4PLqsA",
        "colab_type": "code",
        "colab": {}
      },
      "source": [
        ""
      ],
      "execution_count": 23,
      "outputs": []
    }
  ]
}