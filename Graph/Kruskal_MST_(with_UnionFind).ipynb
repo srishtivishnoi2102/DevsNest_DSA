{
  "nbformat": 4,
  "nbformat_minor": 0,
  "metadata": {
    "colab": {
      "name": "Kruskal MST (with UnionFind).ipynb",
      "provenance": [],
      "authorship_tag": "ABX9TyM+pE/APPWv/qidFnWClne+",
      "include_colab_link": true
    },
    "kernelspec": {
      "name": "python3",
      "display_name": "Python 3"
    }
  },
  "cells": [
    {
      "cell_type": "markdown",
      "metadata": {
        "id": "view-in-github",
        "colab_type": "text"
      },
      "source": [
        "<a href=\"https://colab.research.google.com/github/srishtivishnoi2102/DevsNest_DSA/blob/master/Graph/Kruskal_MST_(with_UnionFind).ipynb\" target=\"_parent\"><img src=\"https://colab.research.google.com/assets/colab-badge.svg\" alt=\"Open In Colab\"/></a>"
      ]
    },
    {
      "cell_type": "code",
      "metadata": {
        "id": "DX_NoCRI1N50",
        "colab_type": "code",
        "colab": {}
      },
      "source": [
        ""
      ],
      "execution_count": 8,
      "outputs": []
    },
    {
      "cell_type": "code",
      "metadata": {
        "id": "SUqnC10vHEFc",
        "colab_type": "code",
        "colab": {}
      },
      "source": [
        "def find(v):\n",
        "  # print(link)\n",
        "  if v==link[v]:\n",
        "    # print(v,link[v])\n",
        "    return v\n",
        "  return find(link[v])\n",
        "\n",
        "def union(u,v):\n",
        "  u=find(u)\n",
        "  v=find(v)\n",
        "  if size[u]<size[v]:\n",
        "    u,v=v,u\n",
        "  link[v]=link[u]\n",
        "  size[u]=size[u]+size[v]\n",
        "  print(\"merged::\",u,v)\n",
        "  print(\"SIZE::\",size)\n",
        "  print(\"LINK::\",link)\n",
        "def same_set(u,v):\n",
        "  return find(u)==find(v)\n",
        "def kruskal(edges):\n",
        "\n",
        "  edges.sort(key=lambda x:x[2])\n",
        "  tree_edges=[]\n",
        "  \n",
        "\n",
        "  for edge in edges:\n",
        "    u=edge[0]\n",
        "    v=edge[1]\n",
        "    print(\"\\nedge::\",edge,\", find(u)::\",find(edge[0]),\", find(v)::\",find(edge[1]))\n",
        "    if not same_set(edge[0],edge[1]):\n",
        "      \n",
        "      tree_edges.append(edge)\n",
        "      union(edge[0],edge[1])\n",
        "  return tree_edges\n"
      ],
      "execution_count": 50,
      "outputs": []
    },
    {
      "cell_type": "code",
      "metadata": {
        "id": "QX_f9Q1eLw8T",
        "colab_type": "code",
        "colab": {
          "base_uri": "https://localhost:8080/",
          "height": 54
        },
        "outputId": "cc38da92-ef66-4b0d-8ece-245f119c3c4a"
      },
      "source": [
        "edges= [\n",
        "        ['a','b',6],\n",
        "        ['a','c',1], \n",
        "        ['a','d',5], \n",
        "        ['b','c',5],\n",
        "        ['b','e',3],\n",
        "        ['c','d',5],\n",
        "        ['e','c',6],\n",
        "        ['d','f',2],\n",
        "        ['c','f',4],\n",
        "        ['e','f',6],\n",
        "          ]\n",
        "\n",
        "u_set=set(map(lambda x:x[0],edges))\n",
        "v_set=set(map(lambda x:x[1],edges))\n",
        "vertices=u_set.union(v_set)\n",
        "print(\"Edges::\",edges)\n"
      ],
      "execution_count": 51,
      "outputs": [
        {
          "output_type": "stream",
          "text": [
            "Edges:: [['a', 'b', 6], ['a', 'c', 1], ['a', 'd', 5], ['b', 'c', 5], ['b', 'e', 3], ['c', 'd', 5], ['e', 'c', 6], ['d', 'f', 2], ['c', 'f', 4], ['e', 'f', 6]]\n"
          ],
          "name": "stdout"
        }
      ]
    },
    {
      "cell_type": "code",
      "metadata": {
        "id": "loA8Eve2Lyx2",
        "colab_type": "code",
        "colab": {
          "base_uri": "https://localhost:8080/",
          "height": 629
        },
        "outputId": "66bc98c2-9c06-41d9-af29-70161d494b22"
      },
      "source": [
        "size=dict(zip(vertices,[1 for v in vertices]))  #for each node v, size[v] gives the size of cluster whose root is v\n",
        "link=dict(zip(vertices,[v for v in vertices]))  #for each node v, link[v] contains the root node of the cluster to which node v belongs to\n",
        " \n",
        "kruskal(edges)"
      ],
      "execution_count": 52,
      "outputs": [
        {
          "output_type": "stream",
          "text": [
            "\n",
            "edge:: ['a', 'c', 1] , find(u):: a , find(v):: c\n",
            "merged:: a c\n",
            "SIZE:: {'a': 2, 'f': 1, 'e': 1, 'b': 1, 'd': 1, 'c': 1}\n",
            "LINK:: {'a': 'a', 'f': 'f', 'e': 'e', 'b': 'b', 'd': 'd', 'c': 'a'}\n",
            "\n",
            "edge:: ['d', 'f', 2] , find(u):: d , find(v):: f\n",
            "merged:: d f\n",
            "SIZE:: {'a': 2, 'f': 1, 'e': 1, 'b': 1, 'd': 2, 'c': 1}\n",
            "LINK:: {'a': 'a', 'f': 'd', 'e': 'e', 'b': 'b', 'd': 'd', 'c': 'a'}\n",
            "\n",
            "edge:: ['b', 'e', 3] , find(u):: b , find(v):: e\n",
            "merged:: b e\n",
            "SIZE:: {'a': 2, 'f': 1, 'e': 1, 'b': 2, 'd': 2, 'c': 1}\n",
            "LINK:: {'a': 'a', 'f': 'd', 'e': 'b', 'b': 'b', 'd': 'd', 'c': 'a'}\n",
            "\n",
            "edge:: ['c', 'f', 4] , find(u):: a , find(v):: d\n",
            "merged:: a d\n",
            "SIZE:: {'a': 4, 'f': 1, 'e': 1, 'b': 2, 'd': 2, 'c': 1}\n",
            "LINK:: {'a': 'a', 'f': 'd', 'e': 'b', 'b': 'b', 'd': 'a', 'c': 'a'}\n",
            "\n",
            "edge:: ['a', 'd', 5] , find(u):: a , find(v):: a\n",
            "\n",
            "edge:: ['b', 'c', 5] , find(u):: b , find(v):: a\n",
            "merged:: a b\n",
            "SIZE:: {'a': 6, 'f': 1, 'e': 1, 'b': 2, 'd': 2, 'c': 1}\n",
            "LINK:: {'a': 'a', 'f': 'd', 'e': 'b', 'b': 'a', 'd': 'a', 'c': 'a'}\n",
            "\n",
            "edge:: ['c', 'd', 5] , find(u):: a , find(v):: a\n",
            "\n",
            "edge:: ['a', 'b', 6] , find(u):: a , find(v):: a\n",
            "\n",
            "edge:: ['e', 'c', 6] , find(u):: a , find(v):: a\n",
            "\n",
            "edge:: ['e', 'f', 6] , find(u):: a , find(v):: a\n"
          ],
          "name": "stdout"
        },
        {
          "output_type": "execute_result",
          "data": {
            "text/plain": [
              "[['a', 'c', 1], ['d', 'f', 2], ['b', 'e', 3], ['c', 'f', 4], ['b', 'c', 5]]"
            ]
          },
          "metadata": {
            "tags": []
          },
          "execution_count": 52
        }
      ]
    },
    {
      "cell_type": "code",
      "metadata": {
        "id": "zetmxJeQMjVg",
        "colab_type": "code",
        "colab": {}
      },
      "source": [
        ""
      ],
      "execution_count": null,
      "outputs": []
    }
  ]
}