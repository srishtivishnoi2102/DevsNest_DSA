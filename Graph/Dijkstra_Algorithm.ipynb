{
  "nbformat": 4,
  "nbformat_minor": 0,
  "metadata": {
    "colab": {
      "name": "Dijkstra Algorithm.ipynb",
      "provenance": [],
      "include_colab_link": true
    },
    "kernelspec": {
      "name": "python3",
      "display_name": "Python 3"
    }
  },
  "cells": [
    {
      "cell_type": "markdown",
      "metadata": {
        "id": "view-in-github",
        "colab_type": "text"
      },
      "source": [
        "<a href=\"https://colab.research.google.com/github/srishtivishnoi2102/DevsNest_DSA/blob/master/Graph/Dijkstra_Algorithm.ipynb\" target=\"_parent\"><img src=\"https://colab.research.google.com/assets/colab-badge.svg\" alt=\"Open In Colab\"/></a>"
      ]
    },
    {
      "cell_type": "code",
      "metadata": {
        "id": "8Z_Z-tIfGOIg",
        "colab_type": "code",
        "colab": {}
      },
      "source": [
        "edges= [\n",
        "        ['a','b',2],\n",
        "        ['a','c',4], \n",
        "        ['b','c',1],\n",
        "        ['b','d',7],\n",
        "        ['c','e',3],\n",
        "        ['e','d',2],\n",
        "        ['d','f',1],\n",
        "        ['e','f',5],\n",
        "          ]\n",
        "vertices=['a','b','c','d','e','f']         "
      ],
      "execution_count": 2,
      "outputs": []
    },
    {
      "cell_type": "code",
      "metadata": {
        "id": "S6QahQQHGneO",
        "colab_type": "code",
        "colab": {}
      },
      "source": [
        "def build_graph(vertices, edges):\n",
        "  graph=dict(zip(vertices, [ [] for _ in range(len(vertices)) ]))\n",
        "\n",
        "  for start,end,weight in edges:\n",
        "    # print(start,end,weight)\n",
        "    graph[start].append([end,weight])\n",
        "    # print(graph)\n",
        "    \n",
        "    # graph[end].append([start,weight])   # do this for undirected graph\n",
        "  return graph"
      ],
      "execution_count": 3,
      "outputs": []
    },
    {
      "cell_type": "code",
      "metadata": {
        "id": "QWefsmz7hD0l",
        "colab_type": "code",
        "colab": {
          "base_uri": "https://localhost:8080/",
          "height": 119
        },
        "outputId": "7c5e58fb-305b-4d87-a83b-460939c41823"
      },
      "source": [
        "build_graph(vertices, edges)\n"
      ],
      "execution_count": 4,
      "outputs": [
        {
          "output_type": "execute_result",
          "data": {
            "text/plain": [
              "{'a': [['b', 2], ['c', 4]],\n",
              " 'b': [['c', 1], ['d', 7]],\n",
              " 'c': [['e', 3]],\n",
              " 'd': [['f', 1]],\n",
              " 'e': [['d', 2], ['f', 5]],\n",
              " 'f': []}"
            ]
          },
          "metadata": {
            "tags": []
          },
          "execution_count": 4
        }
      ]
    },
    {
      "cell_type": "code",
      "metadata": {
        "id": "2IIx0GtpILyV",
        "colab_type": "code",
        "colab": {}
      },
      "source": [
        "import heapq as heap"
      ],
      "execution_count": 5,
      "outputs": []
    },
    {
      "cell_type": "code",
      "metadata": {
        "id": "TnP8BP8THTl_",
        "colab_type": "code",
        "colab": {}
      },
      "source": [
        "def dijkstra(graph,startnode):\n",
        "  pq=[]\n",
        "  to_be_visited=set(graph.keys())\n",
        "\n",
        "  distance_from_start=dict(zip(graph.keys(),[float('inf')]*len(graph) ))\n",
        "\n",
        "  # print(distance_from_start)\n",
        "  distance_from_start[startnode]=0\n",
        "  print(distance_from_start)\n",
        "  # heap.heappush(pq, [0 , a] )\n",
        "\n",
        "  heap.heappush(pq,[ distance_from_start[startnode], startnode])    \n",
        "  while to_be_visited: \n",
        " \n",
        "    [current_dist, current_node ]=heap.heappop(pq)\n",
        "    if current_node in to_be_visited:    \n",
        "      \n",
        "      to_be_visited.remove(current_node)\n",
        "      for edge_end,edge_length in graph[current_node]:   \n",
        "        distance_from_start[edge_end] = min(distance_from_start[edge_end],current_dist +edge_length)  #relaxation\n",
        "        heap.heappush(pq,[distance_from_start[edge_end] , edge_end])\n",
        "      print(\"current_node::\",current_node)\n",
        "      print(\"pq::\",pq)\n",
        "      print(\"to_be_visited::\",to_be_visited)\n",
        "      print(\"distance::\",distance_from_start,\"\\n\")\n",
        "  return distance_from_start\n",
        "\n",
        "\n"
      ],
      "execution_count": 8,
      "outputs": []
    },
    {
      "cell_type": "code",
      "metadata": {
        "id": "nu7qeEKoJNpL",
        "colab_type": "code",
        "colab": {
          "base_uri": "https://localhost:8080/",
          "height": 561
        },
        "outputId": "72ebe6f8-668e-4d6e-ca52-7ef6dcd83f96"
      },
      "source": [
        "graph=build_graph(vertices, edges)\n",
        "dijkstra(graph,'a')"
      ],
      "execution_count": 9,
      "outputs": [
        {
          "output_type": "stream",
          "text": [
            "{'a': 0, 'b': inf, 'c': inf, 'd': inf, 'e': inf, 'f': inf}\n",
            "current_node:: a\n",
            "pq:: [[2, 'b'], [4, 'c']]\n",
            "to_be_visited:: {'e', 'c', 'b', 'd', 'f'}\n",
            "distance:: {'a': 0, 'b': 2, 'c': 4, 'd': inf, 'e': inf, 'f': inf} \n",
            "\n",
            "current_node:: b\n",
            "pq:: [[3, 'c'], [4, 'c'], [9, 'd']]\n",
            "to_be_visited:: {'e', 'c', 'd', 'f'}\n",
            "distance:: {'a': 0, 'b': 2, 'c': 3, 'd': 9, 'e': inf, 'f': inf} \n",
            "\n",
            "current_node:: c\n",
            "pq:: [[4, 'c'], [9, 'd'], [6, 'e']]\n",
            "to_be_visited:: {'e', 'd', 'f'}\n",
            "distance:: {'a': 0, 'b': 2, 'c': 3, 'd': 9, 'e': 6, 'f': inf} \n",
            "\n",
            "current_node:: e\n",
            "pq:: [[8, 'd'], [9, 'd'], [11, 'f']]\n",
            "to_be_visited:: {'d', 'f'}\n",
            "distance:: {'a': 0, 'b': 2, 'c': 3, 'd': 8, 'e': 6, 'f': 11} \n",
            "\n",
            "current_node:: d\n",
            "pq:: [[9, 'd'], [11, 'f'], [9, 'f']]\n",
            "to_be_visited:: {'f'}\n",
            "distance:: {'a': 0, 'b': 2, 'c': 3, 'd': 8, 'e': 6, 'f': 9} \n",
            "\n",
            "current_node:: f\n",
            "pq:: [[11, 'f']]\n",
            "to_be_visited:: set()\n",
            "distance:: {'a': 0, 'b': 2, 'c': 3, 'd': 8, 'e': 6, 'f': 9} \n",
            "\n"
          ],
          "name": "stdout"
        },
        {
          "output_type": "execute_result",
          "data": {
            "text/plain": [
              "{'a': 0, 'b': 2, 'c': 3, 'd': 8, 'e': 6, 'f': 9}"
            ]
          },
          "metadata": {
            "tags": []
          },
          "execution_count": 9
        }
      ]
    },
    {
      "cell_type": "code",
      "metadata": {
        "id": "pzGfMd_qAZj-",
        "colab_type": "code",
        "colab": {}
      },
      "source": [
        ""
      ],
      "execution_count": null,
      "outputs": []
    }
  ]
}