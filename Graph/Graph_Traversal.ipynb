{
  "nbformat": 4,
  "nbformat_minor": 0,
  "metadata": {
    "colab": {
      "name": "Graph Traversal.ipynb",
      "provenance": [],
      "authorship_tag": "ABX9TyPLFPhukjR5pyampuCy1qFD",
      "include_colab_link": true
    },
    "kernelspec": {
      "name": "python3",
      "display_name": "Python 3"
    }
  },
  "cells": [
    {
      "cell_type": "markdown",
      "metadata": {
        "id": "view-in-github",
        "colab_type": "text"
      },
      "source": [
        "<a href=\"https://colab.research.google.com/github/srishtivishnoi2102/DevsNest_DSA/blob/master/Graph/Graph_Traversal.ipynb\" target=\"_parent\"><img src=\"https://colab.research.google.com/assets/colab-badge.svg\" alt=\"Open In Colab\"/></a>"
      ]
    },
    {
      "cell_type": "code",
      "metadata": {
        "id": "1zwXEPbE3OjX",
        "colab_type": "code",
        "colab": {}
      },
      "source": [
        "# 1 5\n",
        "# 0 2\n",
        "# 2 3\n",
        "# 2 4\n",
        "# 1 2\n",
        "\n",
        "edges=[[1,5],[0,2],[2,3],[2,4],[1,2]]\n",
        "vertices=[0,1,2,3,4,5]"
      ],
      "execution_count": 94,
      "outputs": []
    },
    {
      "cell_type": "code",
      "metadata": {
        "id": "md8BfAmKDl1I",
        "colab_type": "code",
        "colab": {}
      },
      "source": [
        "def build_graph(vertices, edges):\n",
        "  graph=dict(zip(vertices, [ [] for _ in range(len(vertices)) ]))\n",
        "  for edge in edges:\n",
        "    # print(edge)\n",
        "    graph[edge[0]].append(edge[1])\n",
        "    graph[edge[1]].append(edge[0])\n",
        "  return graph"
      ],
      "execution_count": 95,
      "outputs": []
    },
    {
      "cell_type": "code",
      "metadata": {
        "id": "WvyxB-394ivo",
        "colab_type": "code",
        "colab": {}
      },
      "source": [
        "graph=build_graph(vertices, edges)"
      ],
      "execution_count": 96,
      "outputs": []
    },
    {
      "cell_type": "code",
      "metadata": {
        "id": "KZ_cSa13E7ie",
        "colab_type": "code",
        "colab": {
          "base_uri": "https://localhost:8080/",
          "height": 33
        },
        "outputId": "ad9fdb10-34b2-43d0-b25d-fcc1cc4a6acf"
      },
      "source": [
        "graph"
      ],
      "execution_count": 97,
      "outputs": [
        {
          "output_type": "execute_result",
          "data": {
            "text/plain": [
              "{0: [2], 1: [5, 2], 2: [0, 3, 4, 1], 3: [2], 4: [2], 5: [1]}"
            ]
          },
          "metadata": {
            "tags": []
          },
          "execution_count": 97
        }
      ]
    },
    {
      "cell_type": "markdown",
      "metadata": {
        "id": "66sKlvUH9GIB",
        "colab_type": "text"
      },
      "source": [
        "# DFS \n",
        "1. Pick any node\n",
        "2. push it into stack\n",
        "3. keep reading the stack's top element\n",
        "4. for the top element visit it's graph array\n",
        "5. if the nodes are not visited mark them visited and push them into stack."
      ]
    },
    {
      "cell_type": "code",
      "metadata": {
        "id": "pO3cNX5r6iKO",
        "colab_type": "code",
        "colab": {}
      },
      "source": [
        "def dfs(starting_node):\n",
        "  stack=[]\n",
        "  visited=[False]*len(graph)\n",
        "  visited[starting_node]=True\n",
        "  stack.append(starting_node)\n",
        "  while len(stack)>0:\n",
        "    current=stack.pop()\n",
        "    print(current)\n",
        "    # print(graph[current])\n",
        "    for neighbour in graph[current]:\n",
        "      if not visited[neighbour]:\n",
        "        stack.append(neighbour)\n",
        "      visited[neighbour]=True\n"
      ],
      "execution_count": 98,
      "outputs": []
    },
    {
      "cell_type": "code",
      "metadata": {
        "id": "kJVTB5169c5B",
        "colab_type": "code",
        "colab": {
          "base_uri": "https://localhost:8080/",
          "height": 116
        },
        "outputId": "aec5a837-2520-42e9-b248-78ddfa261971"
      },
      "source": [
        "dfs(5)"
      ],
      "execution_count": 100,
      "outputs": [
        {
          "output_type": "stream",
          "text": [
            "5\n",
            "1\n",
            "2\n",
            "4\n",
            "3\n",
            "0\n"
          ],
          "name": "stdout"
        }
      ]
    },
    {
      "cell_type": "markdown",
      "metadata": {
        "id": "0wIWd7fBF3UA",
        "colab_type": "text"
      },
      "source": [
        "# BFS"
      ]
    },
    {
      "cell_type": "code",
      "metadata": {
        "id": "p0LOin94-xuz",
        "colab_type": "code",
        "colab": {}
      },
      "source": [
        "def bfs(starting_node):\n",
        "  queue=[]\n",
        "  visited=[False]*len(graph)\n",
        "  visited[starting_node]=True\n",
        "  stack.append(starting_node)\n",
        "  while len(stack)>0:\n",
        "    current=stack.pop(0)\n",
        "    print(current)\n",
        "    # print(graph[current])\n",
        "    for neighbour in graph[current]:\n",
        "      if not visited[neighbour]:\n",
        "        stack.append(neighbour)\n",
        "      visited[neighbour]=True"
      ],
      "execution_count": 92,
      "outputs": []
    },
    {
      "cell_type": "code",
      "metadata": {
        "id": "knoOvsa0Chfp",
        "colab_type": "code",
        "colab": {
          "base_uri": "https://localhost:8080/",
          "height": 116
        },
        "outputId": "9a99f0ed-1295-443d-d290-15ec87f3e2f1"
      },
      "source": [
        "bfs(0)"
      ],
      "execution_count": 93,
      "outputs": [
        {
          "output_type": "stream",
          "text": [
            "0\n",
            "2\n",
            "3\n",
            "4\n",
            "1\n",
            "5\n"
          ],
          "name": "stdout"
        }
      ]
    },
    {
      "cell_type": "code",
      "metadata": {
        "id": "lKRczPo6CijU",
        "colab_type": "code",
        "colab": {}
      },
      "source": [
        ""
      ],
      "execution_count": null,
      "outputs": []
    }
  ]
}