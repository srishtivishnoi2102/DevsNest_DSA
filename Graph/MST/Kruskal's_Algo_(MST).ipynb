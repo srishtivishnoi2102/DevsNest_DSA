{
  "nbformat": 4,
  "nbformat_minor": 0,
  "metadata": {
    "colab": {
      "name": "Kruskal's Algo (MST).ipynb",
      "provenance": [],
      "authorship_tag": "ABX9TyPpLe5VXwySsX4Me+wrgBV5",
      "include_colab_link": true
    },
    "kernelspec": {
      "name": "python3",
      "display_name": "Python 3"
    }
  },
  "cells": [
    {
      "cell_type": "markdown",
      "metadata": {
        "id": "view-in-github",
        "colab_type": "text"
      },
      "source": [
        "<a href=\"https://colab.research.google.com/github/srishtivishnoi2102/DevsNest_DSA/blob/master/Graph/MST/Kruskal's_Algo_(MST).ipynb\" target=\"_parent\"><img src=\"https://colab.research.google.com/assets/colab-badge.svg\" alt=\"Open In Colab\"/></a>"
      ]
    },
    {
      "cell_type": "code",
      "metadata": {
        "id": "6hIRvbSrSKHQ",
        "colab_type": "code",
        "colab": {}
      },
      "source": [
        "edges= [\n",
        "        ['a','b',6],\n",
        "        ['a','c',1], \n",
        "        ['a','d',5], \n",
        "        ['b','c',5],\n",
        "        ['b','e',3],\n",
        "        ['c','d',5],\n",
        "        ['e','c',6],\n",
        "        ['d','f',2],\n",
        "        ['c','f',4],\n",
        "        ['e','f',6],\n",
        "          ]"
      ],
      "execution_count": null,
      "outputs": []
    },
    {
      "cell_type": "code",
      "metadata": {
        "id": "QpBc9cnEUsiJ",
        "colab_type": "code",
        "colab": {}
      },
      "source": [
        "def build_graph(edges):\n",
        "  U=set(map(lambda x:x[0],edges))\n",
        "  V=set(map(lambda x:x[1],edges))\n",
        "  vertices=U.union(V)\n",
        "  graph=dict(zip(vertices, [ [] for _ in range(len(vertices)) ]))\n",
        "  for start,end,weight in edges:\n",
        "    # print(start,end,weight)\n",
        "    graph[start].append([end,weight])\n",
        "    graph[end].append([start,weight])   # do this for undirected graph\n",
        "  return graph\n",
        "\n",
        "# def update_graph(edge, graph):\n",
        "\n",
        "#   start,end,weight=edge\n",
        "#   if start not in graph.keys():\n",
        "#     graph[start]=[]\n",
        "#   if end not in graph.keys():\n",
        "#     graph[end]=[]\n",
        "#   graph[start].append([end,weight])\n",
        "#   graph[end].append([start,weight])\n",
        "#   return graph"
      ],
      "execution_count": null,
      "outputs": []
    },
    {
      "cell_type": "code",
      "metadata": {
        "id": "6lDOxqVGUusY",
        "colab_type": "code",
        "colab": {}
      },
      "source": [
        "def acyclic_bfs(graph):\n",
        "  visited=dict(zip(graph.keys(),[0  for v in graph.keys()] ))\n",
        "  # visited can have 3 values----> 0 for unvisited,  1 for visited and in processing,   2 for visited and processed\n",
        "  for v in graph.keys():\n",
        "    if visited[v]==0:\n",
        "      q=[v]\n",
        "      while q:\n",
        "        v=q.pop(0)\n",
        "        for nb,_ in graph[v]:\n",
        "          if visited[nb]==0:\n",
        "            q.append(nb)\n",
        "            visited[nb]=1\n",
        "          elif visited[nb]==1:  # graph has cycle if a visited and in processing node is the neightbor of another node\n",
        "            return False\n",
        "        visited[v]=2\n",
        "  return True\n"
      ],
      "execution_count": 198,
      "outputs": []
    },
    {
      "cell_type": "code",
      "metadata": {
        "id": "fePdU-fSUwQB",
        "colab_type": "code",
        "colab": {
          "base_uri": "https://localhost:8080/",
          "height": 34
        },
        "outputId": "2043f094-87a2-4f69-c8ab-735337060967"
      },
      "source": [
        "graph=build_graph(edges)\n",
        "acyclic_bfs(graph)"
      ],
      "execution_count": 199,
      "outputs": [
        {
          "output_type": "execute_result",
          "data": {
            "text/plain": [
              "False"
            ]
          },
          "metadata": {
            "tags": []
          },
          "execution_count": 199
        }
      ]
    },
    {
      "cell_type": "code",
      "metadata": {
        "id": "XcBfacifVA9S",
        "colab_type": "code",
        "colab": {}
      },
      "source": [
        ""
      ],
      "execution_count": 199,
      "outputs": []
    },
    {
      "cell_type": "markdown",
      "metadata": {
        "id": "tCyzdNVp7wyG",
        "colab_type": "text"
      },
      "source": [
        "# Kruskal Minimum Spanning Tree\n",
        "\n",
        "\n",
        "\n",
        "### 1.   Sort Edges based on weight in increasing order\n",
        "### 2.   Pick one edge at a time, for each edge, repeat 3 and 4\n",
        "\n",
        "### 3.   check if adding that edge create cycle in graph or not\n",
        "### 4.   if cycle is not created, then add edge into graph, else discard it\n",
        "\n",
        "\n",
        "\n",
        "\n"
      ]
    },
    {
      "cell_type": "code",
      "metadata": {
        "id": "MnObzYusWyrC",
        "colab_type": "code",
        "colab": {}
      },
      "source": [
        "def Kruskal_MST(edges):\n",
        "  # V=set()\n",
        "  E=[]\n",
        "  spanning_cost=0\n",
        " \n",
        "  edges.sort(key=lambda x:x[2])   #sorting edges on basis of weight\n",
        "  # print(edges)\n",
        "  for edge in edges:\n",
        "    print(\"edge::\",edge)\n",
        "    tempT=build_graph(E+[edge])\n",
        "    if acyclic_bfs(tempT):   # if adding edge wont create cycle in graph, add it in tree\n",
        "      E.append(edge)\n",
        "      print(edge,'is selected')\n",
        "      spanning_cost+=edge[2]   #adding edge weight\n",
        "    print(\"E::\",E,\"\\n\")\n",
        "  print(\"Cost of MST::\",spanning_cost)\n",
        "\n",
        "\n",
        "  return E"
      ],
      "execution_count": 200,
      "outputs": []
    },
    {
      "cell_type": "code",
      "metadata": {
        "id": "ZTYLuhVFcat3",
        "colab_type": "code",
        "colab": {
          "base_uri": "https://localhost:8080/",
          "height": 646
        },
        "outputId": "bde2bb5a-62df-4df9-9793-62236af5ad34"
      },
      "source": [
        "E=Kruskal_MST(edges)\n",
        "print(\"Edges in spanning tree::\",E)"
      ],
      "execution_count": 201,
      "outputs": [
        {
          "output_type": "stream",
          "text": [
            "edge:: ['a', 'c', 1]\n",
            "['a', 'c', 1] is selected\n",
            "E:: [['a', 'c', 1]] \n",
            "\n",
            "edge:: ['d', 'f', 2]\n",
            "['d', 'f', 2] is selected\n",
            "E:: [['a', 'c', 1], ['d', 'f', 2]] \n",
            "\n",
            "edge:: ['b', 'e', 3]\n",
            "['b', 'e', 3] is selected\n",
            "E:: [['a', 'c', 1], ['d', 'f', 2], ['b', 'e', 3]] \n",
            "\n",
            "edge:: ['c', 'f', 4]\n",
            "['c', 'f', 4] is selected\n",
            "E:: [['a', 'c', 1], ['d', 'f', 2], ['b', 'e', 3], ['c', 'f', 4]] \n",
            "\n",
            "edge:: ['a', 'd', 5]\n",
            "E:: [['a', 'c', 1], ['d', 'f', 2], ['b', 'e', 3], ['c', 'f', 4]] \n",
            "\n",
            "edge:: ['b', 'c', 5]\n",
            "['b', 'c', 5] is selected\n",
            "E:: [['a', 'c', 1], ['d', 'f', 2], ['b', 'e', 3], ['c', 'f', 4], ['b', 'c', 5]] \n",
            "\n",
            "edge:: ['c', 'd', 5]\n",
            "E:: [['a', 'c', 1], ['d', 'f', 2], ['b', 'e', 3], ['c', 'f', 4], ['b', 'c', 5]] \n",
            "\n",
            "edge:: ['a', 'b', 6]\n",
            "E:: [['a', 'c', 1], ['d', 'f', 2], ['b', 'e', 3], ['c', 'f', 4], ['b', 'c', 5]] \n",
            "\n",
            "edge:: ['e', 'c', 6]\n",
            "E:: [['a', 'c', 1], ['d', 'f', 2], ['b', 'e', 3], ['c', 'f', 4], ['b', 'c', 5]] \n",
            "\n",
            "edge:: ['e', 'f', 6]\n",
            "E:: [['a', 'c', 1], ['d', 'f', 2], ['b', 'e', 3], ['c', 'f', 4], ['b', 'c', 5]] \n",
            "\n",
            "Cost of MST:: 15\n",
            "Edges in spanning tree:: [['a', 'c', 1], ['d', 'f', 2], ['b', 'e', 3], ['c', 'f', 4], ['b', 'c', 5]]\n"
          ],
          "name": "stdout"
        }
      ]
    },
    {
      "cell_type": "code",
      "metadata": {
        "id": "7CDxYjIo11nQ",
        "colab_type": "code",
        "colab": {}
      },
      "source": [
        ""
      ],
      "execution_count": null,
      "outputs": []
    },
    {
      "cell_type": "code",
      "metadata": {
        "id": "MOmOx4rH14oo",
        "colab_type": "code",
        "colab": {}
      },
      "source": [
        ""
      ],
      "execution_count": null,
      "outputs": []
    }
  ]
}