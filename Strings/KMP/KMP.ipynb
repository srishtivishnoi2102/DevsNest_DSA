{
  "nbformat": 4,
  "nbformat_minor": 0,
  "metadata": {
    "colab": {
      "name": "KMP.ipynb",
      "provenance": [],
      "authorship_tag": "ABX9TyOmixXMwVnCP58er7X5kkQD",
      "include_colab_link": true
    },
    "kernelspec": {
      "name": "python3",
      "display_name": "Python 3"
    }
  },
  "cells": [
    {
      "cell_type": "markdown",
      "metadata": {
        "id": "view-in-github",
        "colab_type": "text"
      },
      "source": [
        "<a href=\"https://colab.research.google.com/github/srishtivishnoi2102/DevsNest_DSA/blob/master/KMP.ipynb\" target=\"_parent\"><img src=\"https://colab.research.google.com/assets/colab-badge.svg\" alt=\"Open In Colab\"/></a>"
      ]
    },
    {
      "cell_type": "markdown",
      "metadata": {
        "id": "kcXkB1UyMH0T",
        "colab_type": "text"
      },
      "source": [
        "## In computer science, the Knuth–Morris–Pratt string-searching algorithm (or KMP algorithm) searches for occurrences of a \"pattern\" within a main \"text\""
      ]
    },
    {
      "cell_type": "markdown",
      "metadata": {
        "id": "h0lvtzk5LeCV",
        "colab_type": "text"
      },
      "source": [
        "### Given a string text with length N and string pattern with length M. \n",
        "Find number of occurences of string pattern in string text along with index of occurences.\n"
      ]
    },
    {
      "cell_type": "markdown",
      "metadata": {
        "id": "5Gwvx7hOMiVx",
        "colab_type": "text"
      },
      "source": [
        "**3 steps in KMP:**\n",
        "1.   Calculate temporary string by concatenating pattern as prefix of text, string temp = pattern+\"$\"+text\n",
        "2.   calculate prefix function of temp string\n",
        "3.   Find occurence of pattern in string\n",
        "\n",
        "\n",
        "\n"
      ]
    },
    {
      "cell_type": "code",
      "metadata": {
        "id": "UZ9UrnMWL2rQ",
        "colab_type": "code",
        "colab": {}
      },
      "source": [
        "def calculatePrefix(string):\n",
        "  if len(string)==0:\n",
        "    return []\n",
        "  prefix=[0]\n",
        "  for i in range(1,len(string)):\n",
        "    j=prefix[i-1]   # j stores the prefix value of previous index, to calculate current prefix value\n",
        "\n",
        "    while j>0 and string[i]!=string[j]:\n",
        "      j=prefix[j-1]\n",
        "\n",
        "    if string[i]==string[j]:\n",
        "      j=j+1\n",
        "    prefix.append(j)\n",
        "  return prefix"
      ],
      "execution_count": 5,
      "outputs": []
    },
    {
      "cell_type": "code",
      "metadata": {
        "id": "velA23ApTJCw",
        "colab_type": "code",
        "colab": {}
      },
      "source": [
        "def createTempString(text,pattern):\n",
        "  return pattern +\"$\"+ text"
      ],
      "execution_count": 7,
      "outputs": []
    },
    {
      "cell_type": "code",
      "metadata": {
        "id": "VOkGoOZLOLf4",
        "colab_type": "code",
        "colab": {
          "base_uri": "https://localhost:8080/",
          "height": 50
        },
        "outputId": "5f47829d-7094-4071-8a62-8a6a4321c07f"
      },
      "source": [
        "text=str(input(\"Enter the text string : \"))\n",
        "pattern=str(input(\"Enter the pattern string : \"))"
      ],
      "execution_count": 6,
      "outputs": [
        {
          "output_type": "stream",
          "text": [
            "Enter the text string : tesinger\n",
            "Enter the pattern string : sing\n"
          ],
          "name": "stdout"
        }
      ]
    },
    {
      "cell_type": "code",
      "metadata": {
        "id": "J260Aaa3OgA7",
        "colab_type": "code",
        "colab": {
          "base_uri": "https://localhost:8080/",
          "height": 33
        },
        "outputId": "f6832a08-0c55-4a61-94de-574ed551b8ea"
      },
      "source": [
        "calculatePrefix(createTempString(text,pattern))"
      ],
      "execution_count": 8,
      "outputs": [
        {
          "output_type": "execute_result",
          "data": {
            "text/plain": [
              "[0, 0, 0, 0, 0, 0, 0, 1, 2, 3, 4, 0, 0]"
            ]
          },
          "metadata": {
            "tags": []
          },
          "execution_count": 8
        }
      ]
    },
    {
      "cell_type": "code",
      "metadata": {
        "id": "WYrt3FZGThWA",
        "colab_type": "code",
        "colab": {}
      },
      "source": [
        "def kmp(text, pattern):\n",
        "  temp=createTempString(text, pattern)\n",
        "  prefix=calculatePrefix(temp)\n",
        "  occurences=[]\n",
        "  # print(temp)\n",
        "  for i in range(len(prefix)):\n",
        "    if prefix[i]==len(pattern):\n",
        "      occurences.append(i-2*len(pattern))\n",
        "  print(\"Number of occurences of\",pattern,\"in\",text,\"is: \",len(occurences))\n",
        "  print(\"Position of occurences: \",occurences)\n"
      ],
      "execution_count": 26,
      "outputs": []
    },
    {
      "cell_type": "code",
      "metadata": {
        "id": "s3njPRF5UZMZ",
        "colab_type": "code",
        "colab": {
          "base_uri": "https://localhost:8080/",
          "height": 50
        },
        "outputId": "0cda04e9-d262-46be-89a9-0b0b4ae8da8e"
      },
      "source": [
        "\n",
        "text=\"tesingersingoginsing\"\n",
        "pattern=\"sing\"\n",
        "# text=str(input(\"Enter the text string : \"))\n",
        "# pattern=str(input(\"Enter the pattern string : \"))\n",
        "kmp(text,pattern)"
      ],
      "execution_count": 27,
      "outputs": [
        {
          "output_type": "stream",
          "text": [
            "Number of occurences of sing in tesingersingoginsing is:  3\n",
            "Position of occurences:  [2, 8, 16]\n"
          ],
          "name": "stdout"
        }
      ]
    },
    {
      "cell_type": "code",
      "metadata": {
        "id": "4PRK95PaUcxe",
        "colab_type": "code",
        "colab": {}
      },
      "source": [
        ""
      ],
      "execution_count": null,
      "outputs": []
    }
  ]
}
