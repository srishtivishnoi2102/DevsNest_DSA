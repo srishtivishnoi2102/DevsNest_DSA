{
  "nbformat": 4,
  "nbformat_minor": 0,
  "metadata": {
    "colab": {
      "name": "Minimub Subset Sum Diff.ipynb",
      "provenance": [],
      "authorship_tag": "ABX9TyNyPuthitTFQJlf3ViqUOKt",
      "include_colab_link": true
    },
    "kernelspec": {
      "name": "python3",
      "display_name": "Python 3"
    }
  },
  "cells": [
    {
      "cell_type": "markdown",
      "metadata": {
        "id": "view-in-github",
        "colab_type": "text"
      },
      "source": [
        "<a href=\"https://colab.research.google.com/github/srishtivishnoi2102/DevsNest_DSA/blob/master/Minimub_Subset_Sum_Diff.ipynb\" target=\"_parent\"><img src=\"https://colab.research.google.com/assets/colab-badge.svg\" alt=\"Open In Colab\"/></a>"
      ]
    },
    {
      "cell_type": "code",
      "metadata": {
        "id": "9PvzDvlPEMf6",
        "colab_type": "code",
        "colab": {}
      },
      "source": [
        "def subset_sum(arr, sum):\n",
        "  dp= [[False for s in range(sum+1)] for row in range(len(arr)+1)]\n",
        "  for r in range(len(dp)):\n",
        "    dp[r][0] =True\n",
        "  for n in range(1,len(arr)+1):\n",
        "    for s in range(1, sum+1):\n",
        "      if arr[n-1]>sum:\n",
        "        dp[n][s]= dp[n-1][s]\n",
        "      else:\n",
        "        dp[n][s]= dp[n-1][s] or dp[n-1][s-arr[n-1]]\n",
        "  for sum1 in range(len(dp[0])-1, -1, -1):\n",
        "    if dp[-1][sum1]:\n",
        "      return sum1"
      ],
      "execution_count": 30,
      "outputs": []
    },
    {
      "cell_type": "code",
      "metadata": {
        "id": "mfrpigAnEv2g",
        "colab_type": "code",
        "colab": {}
      },
      "source": [
        "def minSubsetSumdiff(arr):\n",
        "  target= sum(arr)//2\n",
        "  s1=subset_sum(arr,target)\n",
        "  diff=sum(arr)-2*s1\n",
        "  return diff"
      ],
      "execution_count": 31,
      "outputs": []
    },
    {
      "cell_type": "code",
      "metadata": {
        "id": "HW0RZ8JoE01L",
        "colab_type": "code",
        "colab": {
          "base_uri": "https://localhost:8080/",
          "height": 34
        },
        "outputId": "dfb15a2f-9554-4cfa-d8b2-0857d617eab4"
      },
      "source": [
        "arr=[1,3,5,7]\n",
        "minSubsetSumdiff(arr)"
      ],
      "execution_count": 34,
      "outputs": [
        {
          "output_type": "execute_result",
          "data": {
            "text/plain": [
              "0"
            ]
          },
          "metadata": {
            "tags": []
          },
          "execution_count": 34
        }
      ]
    },
    {
      "cell_type": "code",
      "metadata": {
        "id": "t7OcbleXayOl",
        "colab_type": "code",
        "colab": {}
      },
      "source": [
        ""
      ],
      "execution_count": null,
      "outputs": []
    }
  ]
}